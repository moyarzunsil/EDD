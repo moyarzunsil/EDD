{
 "cells": [
  {
   "cell_type": "code",
   "execution_count": 1,
   "metadata": {
    "hide_input": true
   },
   "outputs": [],
   "source": [
    "#Import library\n",
    "from IPython.display import Image"
   ]
  },
  {
   "cell_type": "markdown",
   "metadata": {},
   "source": [
    "# Pilas y Colas\n",
    "\n",
    "Las pilas (stacks) y las colas (queues) son tipos abstractos de datos que nos permiten acceder a la información contenida en ellas de manera controlada, ya que solo se puede acceder a ella desde uno de los extremos (inicio o final). Tanto una pila como una cola pueden ser implementadas en una estructura de datos física  como una lista enlazada o un vector, lo importante en cada caso es que las restricciones de acceso, inserción y borrado sean establecidas correctamente. "
   ]
  },
  {
   "cell_type": "markdown",
   "metadata": {},
   "source": [
    "## Pila (stack)"
   ]
  },
  {
   "cell_type": "code",
   "execution_count": 3,
   "metadata": {
    "hide_input": true
   },
   "outputs": [
    {
     "data": {
      "image/png": "[encoded data removed]",
      "text/plain": [
       "<IPython.core.display.Image object>"
      ]
     },
     "execution_count": 3,
     "metadata": {
      "image/png": {
       "height": 150,
       "width": 300
      }
     },
     "output_type": "execute_result"
    }
   ],
   "source": [
    "# Load image from local storage\n",
    "Image(filename = \"assets/pila.png\", width = 300, height = 150)"
   ]
  },
  {
   "cell_type": "markdown",
   "metadata": {},
   "source": [
    "Las pilas son estructuras de datos lineales donde la restricciones nos indican que la **inserción (apilar o push)** de un nuevo elemento solo debe realizarse desde la *cima* (o inicio) de la pila, y la **extracción o borrado (desapilar o pop)** de un elemento debe también realizarse desde la *cima* de la pila.\n",
    "\n",
    "Este comportamiento hace que la pila sea una estructura tipo **LIFO** (*last in first out*, el último que entra es el primero que sale). En ciencias de la computación las pilas suelen usarse para:\n",
    "\n",
    "- Evaluación de expresiones en notación postfija (notación polaca inversa).\n",
    "- Reconocedores sintácticos de lenguajes independientes del contexto\n",
    "- Implementación de algortimos recursivos.\n",
    "- Etc."
   ]
  },
  {
   "cell_type": "markdown",
   "metadata": {},
   "source": [
    "### Operaciones\n",
    "\n",
    "Las operaciones principales de una pila son **apilar (push)** y **desapilar (pop)**. Usualmente se suelen agregar las funciones **cima (top)**, **tamaño (size)** y **vacio (is_empty)** como una manera de darle un mayor soporte al programador al momento de manejar la pila.\n",
    "\n",
    "- **apilar (push):** inserta un elemento en la cima de la pila.\n",
    "- **desapilar (pop):** retorna el elemento en la cima de la pila y lo elimina de la estructura.\n",
    "- **cima (top):** retorna el elemento en la cima de la pila sin eliminarlo.\n",
    "- **tamaño (size):** retorna la cantidad de elementos de la pila.\n",
    "- **vacio (is_empty):** retorna verdadero si la pila no tiene elementos.\n",
    "\n",
    "Además cuando una pila es implementada sobre un vector o arreglo se suele incluir una función que indique el tamaño máximo que puede tener la pila (**max_size**)."
   ]
  },
  {
   "cell_type": "markdown",
   "metadata": {},
   "source": [
    "#### Ejemplo de pila implementada a partir de una lista enlazada con nodo centinela fuera de la lista."
   ]
  },
  {
   "cell_type": "code",
   "execution_count": 1,
   "metadata": {},
   "outputs": [],
   "source": [
    "class nodo:\n",
    "    def __init__(self, dato):\n",
    "        self.dato = dato\n",
    "        self.sig = None\n",
    "        \n",
    "    def add(self, nuevo):\n",
    "        nuevo.sig = self.sig # para que no se pierda el resto de la lista\n",
    "        self.sig = nuevo\n",
    "    \n",
    "    def __str__(self):\n",
    "        if(self.sig == None):\n",
    "            return \"({})->(None)\".format(self.dato)\n",
    "        \n",
    "        return \"({0})->{1}\".format(self.dato, str(self.sig))\n",
    "    \n",
    "    def borrar(self, elem):\n",
    "        if(self.sig == None):\n",
    "            return None\n",
    "        \n",
    "        if(self.sig.dato == elem):\n",
    "            self.sig = self.sig.sig\n",
    "            return 1\n",
    "        else:\n",
    "            return self.sig.borrar(elem)\n",
    "\n",
    "class lista_enlazada:\n",
    "    def __init__(self):\n",
    "        self.first = None # siempre la referencia al primero\n",
    "        self.last = None # siempre la referencia al ultimo\n",
    "        self.curr = None # a partir de esta referencia moverse en la lista\n",
    "        self.num_elem = 0 # cantidad de elementos en la lista\n",
    "        \n",
    "    def __str__(self):\n",
    "        # recorrer e imprimir\n",
    "        return str(self.first)\n",
    "    \n",
    "    # ejemplo de uso de la referencia curr sobrecargando []\n",
    "    def __getitem__(self, index):\n",
    "        if(type(index) != type(int())): raise TypeError(\"Index must be integer.\")\n",
    "        if(index > self.num_elem): raise ValueError(\"Index out of range.\")\n",
    "        if(index < 0): raise ValueError(\"Index must be positive or zero.\")\n",
    "        \n",
    "        self.curr = self.first\n",
    "        curr_idx = 0\n",
    "        while(curr_idx != index):\n",
    "            curr_idx += 1\n",
    "            self.curr = self.curr.sig\n",
    "            \n",
    "        return self.curr.dato\n",
    "    \n",
    "    def push(self, nuevo):\n",
    "        if(self.first == None):\n",
    "            self.first = nuevo\n",
    "            self.last = nuevo\n",
    "        else:\n",
    "            nuevo.sig = self.first\n",
    "            self.first = nuevo\n",
    "            \n",
    "        self.num_elem += 1\n",
    "        \n",
    "    def pop(self):\n",
    "        if(self.first == None):\n",
    "            return None\n",
    "        else:\n",
    "            aux = self.first\n",
    "            self.first = self.first.sig\n",
    "            self.num_elem -= 1\n",
    "            return(aux)\n",
    "        \n",
    "    def top(self):\n",
    "        return self.first\n",
    "    \n",
    "    def size(self):\n",
    "        return(num_elem)\n",
    "    \n",
    "    def is_empty(self):\n",
    "        if(self.num_elem == 0):\n",
    "            return True\n",
    "        else:\n",
    "            return False\n",
    "        \n",
    "        \n"
   ]
  },
  {
   "cell_type": "markdown",
   "metadata": {},
   "source": [
    "#### Ejemplo de uso de la pila"
   ]
  },
  {
   "cell_type": "code",
   "execution_count": 5,
   "metadata": {},
   "outputs": [
    {
     "name": "stdout",
     "output_type": "stream",
     "text": [
      "(d6)->(d5)->(d4)->(d3)->(d2)->(d1)->(None)\n",
      "<class '__main__.nodo'>\n",
      "(d5)->(d4)->(d3)->(d2)->(d1)->(None)\n"
     ]
    }
   ],
   "source": [
    "# construcción y llenado de la lista\n",
    "head = lista_enlazada()\n",
    "head.push(nodo(\"d1\"))\n",
    "head.push(nodo(\"d2\"))\n",
    "head.push(nodo(\"d3\"))\n",
    "head.push(nodo(\"d4\"))\n",
    "head.push(nodo(\"d5\"))\n",
    "head.push(nodo(\"d6\"))\n",
    "\n",
    "# uso del método sobrecargado str() y el borrado\n",
    "print(str(head))\n",
    "print(type(head.pop()))\n",
    "print(str(head))"
   ]
  },
  {
   "cell_type": "markdown",
   "metadata": {},
   "source": [
    "# Cola (queue)"
   ]
  },
  {
   "cell_type": "code",
   "execution_count": 5,
   "metadata": {
    "hide_input": true
   },
   "outputs": [
    {
     "data": {
      "image/png": "[encoded data removed]",
      "text/plain": [
       "<IPython.core.display.Image object>"
      ]
     },
     "execution_count": 5,
     "metadata": {
      "image/png": {
       "height": 200,
       "width": 350
      }
     },
     "output_type": "execute_result"
    }
   ],
   "source": [
    "# Load image from local storage\n",
    "Image(filename = \"assets/cola.png\", width = 350, height = 200)"
   ]
  },
  {
   "cell_type": "markdown",
   "metadata": {},
   "source": [
    "Las colas son estructuras de datos lineales donde la restricciones nos indican que la **inserción (encolar o push)** de un nuevo elemento debe realizarse desde el final de la cola, y la **extracción o borrado (desencolar o pop)** de un elemento debe realizarse desde el inicio de la cola, es decir, ambas operaciones se realizan desde extremos opuestos de la estructura. \n",
    "\n",
    "Este comportamiento hace que la cola sea una estructura tipo **FIFO** (*first in first out*, el primero que entra es el primero que sale). Las colas se utilizan en sistemas informáticos, transportes y operaciones de investigación (entre otros), dónde los objetos, personas o eventos son tomados como datos que se almacenan y se guardan mediante colas para su posterior procesamiento."
   ]
  },
  {
   "cell_type": "markdown",
   "metadata": {},
   "source": [
    "### Operaciones\n",
    "\n",
    "Las operaciones principales de una cola son **encolar (push)** y **desencolar (pop)**. Usualmente se suelen agregar las funciones **frente (front)**, **tamaño (size)** y **vacio (is_empty)** como una manera de darle un mayor soporte al programador al momento de manejar la cola.\n",
    "\n",
    "- **encolar (push):** inserta un elemento al final de la cola.\n",
    "- **desencolar (pop):** retorna el elemento del inicio de la cola y lo elimina de la estructura.\n",
    "- **frente (front):** retorna el elemento del inicio de la cola sin eliminarlo.\n",
    "- **tamaño (size):** retorna la cantidad de elementos de la cola.\n",
    "- **vacio (is_empty):** retorna verdadero si la cola no tiene elementos.\n",
    "\n",
    "Además cuando una cola es implementada sobre un vector o arreglo se suele incluir una función que indique el tamaño máximo que puede tener la pila (**max_size**)."
   ]
  },
  {
   "cell_type": "markdown",
   "metadata": {},
   "source": [
    "#### Ejemplo de cola implementada a partir de una lista enlazada con nodo centinela fuera de la lista."
   ]
  },
  {
   "cell_type": "code",
   "execution_count": 6,
   "metadata": {},
   "outputs": [],
   "source": [
    "class nodo:\n",
    "    def __init__(self, dato):\n",
    "        self.dato = dato\n",
    "        self.sig = None\n",
    "        \n",
    "    def add(self, nuevo):\n",
    "        nuevo.sig = self.sig # para que no se pierda el resto de la lista\n",
    "        self.sig = nuevo\n",
    "    \n",
    "    def __str__(self):\n",
    "        if(self.sig == None):\n",
    "            return \"({})->(None)\".format(self.dato)\n",
    "        \n",
    "        return \"({0})->{1}\".format(self.dato, str(self.sig))\n",
    "    \n",
    "    def borrar(self, elem):\n",
    "        if(self.sig == None):\n",
    "            return None\n",
    "        \n",
    "        if(self.sig.dato == elem):\n",
    "            self.sig = self.sig.sig\n",
    "            return 1\n",
    "        else:\n",
    "            return self.sig.borrar(elem)\n",
    "\n",
    "class lista_enlazada:\n",
    "    def __init__(self):\n",
    "        self.first = None # siempre la referencia al primero\n",
    "        self.last = None # siempre la referencia al ultimo\n",
    "        self.curr = None # a partir de esta referencia moverse en la lista\n",
    "        self.num_elem = 0 # cantidad de elementos en la lista\n",
    "        \n",
    "    def __str__(self):\n",
    "        # recorrer e imprimir\n",
    "        return str(self.first)\n",
    "    \n",
    "    # ejemplo de uso de la referencia curr sobrecargando []\n",
    "    def __getitem__(self, index):\n",
    "        if(type(index) != type(int())): raise TypeError(\"Index must be integer.\")\n",
    "        if(index > self.num_elem): raise ValueError(\"Index out of range.\")\n",
    "        if(index < 0): raise ValueError(\"Index must be positive or zero.\")\n",
    "        \n",
    "        self.curr = self.first\n",
    "        curr_idx = 0\n",
    "        while(curr_idx != index):\n",
    "            curr_idx += 1\n",
    "            self.curr = self.curr.sig\n",
    "            \n",
    "        return self.curr.dato\n",
    "    \n",
    "    def push(self, nuevo):\n",
    "        if(self.first == None):\n",
    "            self.first = nuevo\n",
    "            self.last = nuevo\n",
    "        else:\n",
    "            self.last.sig = nuevo\n",
    "            self.last = nuevo\n",
    "            \n",
    "        self.num_elem += 1\n",
    "        \n",
    "    def pop(self):\n",
    "        if(self.first == None):\n",
    "            return None\n",
    "        else:\n",
    "            aux = self.first\n",
    "            self.first = self.first.sig\n",
    "            self.num_elem -= 1\n",
    "            return(aux)\n",
    "        \n",
    "    def front(self):\n",
    "        return self.first\n",
    "    \n",
    "    def size(self):\n",
    "        return(num_elem)\n",
    "    \n",
    "    def is_empty(self):\n",
    "        if(self.num_elem == 0):\n",
    "            return True\n",
    "        else:\n",
    "            return False"
   ]
  },
  {
   "cell_type": "markdown",
   "metadata": {},
   "source": [
    "#### Ejemplo de uso de la cola."
   ]
  },
  {
   "cell_type": "code",
   "execution_count": 7,
   "metadata": {},
   "outputs": [
    {
     "name": "stdout",
     "output_type": "stream",
     "text": [
      "(d1)->(d2)->(d3)->(d4)->(d5)->(d6)->(None)\n",
      "<class '__main__.nodo'>\n",
      "(d2)->(d3)->(d4)->(d5)->(d6)->(None)\n"
     ]
    }
   ],
   "source": [
    "# construcción y llenado de la lista\n",
    "head = lista_enlazada()\n",
    "head.push(nodo(\"d1\"))\n",
    "head.push(nodo(\"d2\"))\n",
    "head.push(nodo(\"d3\"))\n",
    "head.push(nodo(\"d4\"))\n",
    "head.push(nodo(\"d5\"))\n",
    "head.push(nodo(\"d6\"))\n",
    "\n",
    "# uso del método sobrecargado str() y el borrado\n",
    "print(str(head))\n",
    "print(type(head.pop()))\n",
    "print(str(head))"
   ]
  },
  {
   "cell_type": "markdown",
   "metadata": {},
   "source": [
    "## Cola de prioridad (priority queue)"
   ]
  },
  {
   "cell_type": "code",
   "execution_count": 8,
   "metadata": {
    "hide_input": true
   },
   "outputs": [
    {
     "data": {
      "image/png": "[encoded data removed]",
      "text/plain": [
       "<IPython.core.display.Image object>"
      ]
     },
     "execution_count": 8,
     "metadata": {
      "image/png": {
       "height": 250,
       "width": 400
      }
     },
     "output_type": "execute_result"
    }
   ],
   "source": [
    "# Load image from local storage\n",
    "Image(filename = \"assets/priority.png\", width = 400, height = 250)"
   ]
  },
  {
   "cell_type": "markdown",
   "metadata": {},
   "source": [
    "Una cola de prioridades es un tipo de dato abstracto similar a una cola en la que los elementos tienen adicionalmente, una prioridad asignada. En una cola de prioridades un elemento con mayor prioridad será desencolado antes que un elemento de menor prioridad. Si dos elementos tienen la misma prioridad, se desencolarán siguiendo el orden de cola."
   ]
  },
  {
   "cell_type": "markdown",
   "metadata": {},
   "source": [
    "### Operaciones\n",
    "\n",
    "Una cola de prioridad ha de soportar al menos las siguientes dos operaciones:\n",
    "\n",
    "- **encolar (con prioridad):** se añade un elemento a la cola, con su correspondiente prioridad.\n",
    "- **desencolar (con prioridad):** se retorna y elimina el elemento con mayor prioridad más antiguo que no haya sido desencolado de la cola.\n",
    "\n",
    "Además suele implementarse una función frente (que habitualmente aquí se denomina encontrar-máximo o encontrar-mínimo), y que habitualmente se ejecuta en tiempo $O(1)$. Esta operación y su rendimiento en tiempo es crucial en ciertas aplicaciones de las colas de prioridades.\n",
    "\n",
    "Ciertas implementaciones avanzadas pueden incluir operaciones más complejas para la inspección de los elementos de mayor o menor prioridad, borrar la cola o ciertos subconjuntos de la cola, realizar inserciones en masa, la fusión de dos colas en una, aumentar la prioridad de los elementos, etc."
   ]
  },
  {
   "cell_type": "code",
   "execution_count": 4,
   "metadata": {
    "hide_input": true
   },
   "outputs": [],
   "source": [
    "class nodo:\n",
    "    def __init__(self, dato):\n",
    "        self.dato = dato\n",
    "        self.sig = None\n",
    "        \n",
    "    def add(self, nuevo):\n",
    "        nuevo.sig = self.sig # para que no se pierda el resto de la lista\n",
    "        self.sig = nuevo\n",
    "    \n",
    "    def __str__(self):\n",
    "        if(self.sig == None):\n",
    "            return \"({})->(None)\".format(self.dato)\n",
    "        \n",
    "        return \"({0})->{1}\".format(self.dato, str(self.sig))\n",
    "    \n",
    "    def borrar(self, elem):\n",
    "        if(self.sig == None):\n",
    "            return None\n",
    "        \n",
    "        if(self.sig.dato == elem):\n",
    "            self.sig = self.sig.sig\n",
    "            return 1\n",
    "        else:\n",
    "            return self.sig.borrar(elem)\n",
    "\n",
    "class lista_enlazada:\n",
    "    def __init__(self):\n",
    "        self.first = None # siempre la referencia al primero\n",
    "        self.last = None # siempre la referencia al ultimo\n",
    "        self.curr = None # a partir de esta referencia moverse en la lista\n",
    "        self.num_elem = 0 # cantidad de elementos en la lista\n",
    "        self.priority = [None, None, None]\n",
    "        \n",
    "    def __str__(self):\n",
    "        # recorrer e imprimir\n",
    "        return str(self.first)\n",
    "    \n",
    "    # ejemplo de uso de la referencia curr sobrecargando []\n",
    "    def __getitem__(self, index):\n",
    "        if(type(index) != type(int())): raise TypeError(\"Index must be integer.\")\n",
    "        if(index > self.num_elem): raise ValueError(\"Index out of range.\")\n",
    "        if(index < 0): raise ValueError(\"Index must be positive or zero.\")\n",
    "        \n",
    "        self.curr = self.first\n",
    "        curr_idx = 0\n",
    "        while(curr_idx != index):\n",
    "            curr_idx += 1\n",
    "            self.curr = self.curr.sig\n",
    "            \n",
    "        return self.curr.dato\n",
    "    \n",
    "    def push(self, nuevo, prioridad):\n",
    "        if(self.first == None):\n",
    "            self.first = nuevo\n",
    "            self.last = nuevo\n",
    "            self.priority[3-prioridad] = nuevo\n",
    "            #self.priority = [nuevo, nuevo, nuevo]\n",
    "        elif(self.priority[3-prioridad] == None)\n",
    "        else:\n",
    "            aux = self.priority[3-prioridad]\n",
    "            nuevo.sig = aux.sig\n",
    "            aux.sig = nuevo\n",
    "            aux = nuevo\n",
    "            #self.last.sig = nuevo\n",
    "            #self.last = nuevo\n",
    "            \n",
    "        self.num_elem += 1\n",
    "        \n",
    "    def pop(self):\n",
    "        if(self.first == None):\n",
    "            return None\n",
    "        else:\n",
    "            aux = self.first\n",
    "            self.first = self.first.sig\n",
    "            self.num_elem -= 1\n",
    "            return(aux)\n",
    "        \n",
    "    def front(self):\n",
    "        return self.first\n",
    "    \n",
    "    def size(self):\n",
    "        return(num_elem)\n",
    "    \n",
    "    def is_empty(self):\n",
    "        if(self.num_elem == 0):\n",
    "            return True\n",
    "        else:\n",
    "            return False"
   ]
  },
  {
   "cell_type": "code",
   "execution_count": null,
   "metadata": {
    "hide_input": true
   },
   "outputs": [],
   "source": [
    "# construcción y llenado de la lista\n",
    "head = lista_enlazada()\n",
    "head.push(nodo(\"p1\"), 1)\n",
    "head.push(nodo(\"p2\"), 3)\n",
    "head.push(nodo(\"p3\"), 1)\n",
    "head.push(nodo(\"p4\"), 2)\n",
    "head.push(nodo(\"p5\"), 3)\n",
    "head.push(nodo(\"p6\"), 3)\n",
    "\n",
    "# uso del método sobrecargado str() y el borrado\n",
    "print(str(head))\n",
    "#print(type(head.pop()))\n",
    "#print(str(head))"
   ]
  }
 ],
 "metadata": {
  "kernelspec": {
   "display_name": "Python 3.7.5 64-bit ('env': virtualenv)",
   "language": "python",
   "name": "python37564bitenvvirtualenvd1d4a75d47ad4ed4994c6c4e7a3de422"
  },
  "language_info": {
   "codemirror_mode": {
    "name": "ipython",
    "version": 3
   },
   "file_extension": ".py",
   "mimetype": "text/x-python",
   "name": "python",
   "nbconvert_exporter": "python",
   "pygments_lexer": "ipython3",
   "version": "3.7.5"
  }
 },
 "nbformat": 4,
 "nbformat_minor": 4
}
