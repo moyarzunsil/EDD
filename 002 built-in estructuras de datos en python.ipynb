{
 "cells": [
  {
   "cell_type": "code",
   "execution_count": 2,
   "metadata": {},
   "outputs": [
    {
     "name": "stdout",
     "output_type": "stream",
     "text": [
      "PID: 36719\n"
     ]
    }
   ],
   "source": [
    "import os\n",
    "import time as tm\n",
    "import random as rnd\n",
    "import sys\n",
    "import matplotlib.pyplot as plt\n",
    "import scipy as sp\n",
    "\n",
    "print(\"PID: %d\" % os.getpid())"
   ]
  },
  {
   "cell_type": "code",
   "execution_count": 3,
   "metadata": {},
   "outputs": [
    {
     "name": "stdout",
     "output_type": "stream",
     "text": [
      "[1024, 2048, 4096, 8192, 16384, 32768, 65536, 131072, 262144, 524288, 1048576]\n"
     ]
    }
   ],
   "source": [
    "sizes = [ 2**e for e in range(10,21)]\n",
    "print(sizes)"
   ]
  },
  {
   "cell_type": "code",
   "execution_count": 4,
   "metadata": {},
   "outputs": [
    {
     "name": "stdout",
     "output_type": "stream",
     "text": [
      "[1024, 2048, 4096, 8192, 16384, 32768, 65536, 131072, 262144, 524288, 1048576]\n",
      "[9032, 16568, 33936, 69168, 140592, 285392, 578944, 1174056, 2115960, 4290024, 8697472]\n",
      "[0.0037500858306884766, 0.013460874557495117, 0.01683807373046875, 0.026607036590576172, 0.04448890686035156, 0.06191825866699219, 0.11518073081970215, 0.23903107643127441, 0.47775793075561523, 0.9606442451477051, 1.932201862335205]\n"
     ]
    }
   ],
   "source": [
    "#@title veamos\n",
    "weight = []\n",
    "tiempo = []\n",
    "arreglo=[]\n",
    "\n",
    "for curr_size in sizes:\n",
    "    # Generación del arreglo aleatorio.\n",
    "    # tomamos el tamaño del programa antes y despues\n",
    "    # para saber cuanto pesa nuestro arreglo. Lo mismo\n",
    "    # hacemos con los tiempos de creacion.\n",
    "    tiempo_inicial=tm.time()\n",
    "    for i in range(0,curr_size):\n",
    "        arreglo.append(rnd.randint(1,200000))\n",
    "        \n",
    "    # alternativamente se puede crear un arreglo relleno\n",
    "    # con el mismo numero n veces\n",
    "    # arreglo = [10] * curr_size\n",
    "    tiempo_final=tm.time()\n",
    "    \n",
    "    # Guardamos los resultados.\n",
    "    tiempo.append(tiempo_final-tiempo_inicial)\n",
    "    weight.append(sys.getsizeof(arreglo))\n",
    "    \n",
    "    # Borramos el arreglo para seguir con el siguiente.\n",
    "    del arreglo\n",
    "    arreglo=[]\n",
    "    \n",
    "print(sizes)\n",
    "print(weight)\n",
    "print(tiempo)\n"
   ]
  },
  {
   "cell_type": "code",
   "execution_count": 5,
   "metadata": {},
   "outputs": [
    {
     "data": {
      "image/png": "[encoded data removed]",
      "text/plain": [
       "<Figure size 432x288 with 2 Axes>"
      ]
     },
     "metadata": {
      "needs_background": "light"
     },
     "output_type": "display_data"
    }
   ],
   "source": [
    "# Creamos una grafica doble\n",
    "fig, ax1 = plt.subplots()\n",
    "\n",
    "color = 'tab:red'\n",
    "ax1.set_xlabel('Size')\n",
    "ax1.set_ylabel('Weight', color=color)\n",
    "ax1.plot(sizes, weight, color=color)\n",
    "ax1.tick_params(axis='y', labelcolor=color)\n",
    "\n",
    "ax2 = ax1.twinx()  # ocupamos el mismo eje X\n",
    "\n",
    "color = 'tab:blue'\n",
    "ax2.set_ylabel('Time', color=color)  \n",
    "ax2.plot(sizes, tiempo, color=color)\n",
    "ax2.tick_params(axis='y', labelcolor=color)\n",
    "\n",
    "fig.tight_layout()  # ajusta los ejes al layout para que no se descuadren\n",
    "#plt.legend(loc='best')\n",
    "plt.show()"
   ]
  }
 ],
 "metadata": {
  "kernelspec": {
   "display_name": "Python 3",
   "language": "python",
   "name": "python3"
  },
  "language_info": {
   "codemirror_mode": {
    "name": "ipython",
    "version": 3
   },
   "file_extension": ".py",
   "mimetype": "text/x-python",
   "name": "python",
   "nbconvert_exporter": "python",
   "pygments_lexer": "ipython3",
   "version": "3.7.5"
  }
 },
 "nbformat": 4,
 "nbformat_minor": 4
}
