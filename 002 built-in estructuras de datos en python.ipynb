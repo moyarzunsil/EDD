{
 "cells": [
  {
   "cell_type": "code",
   "execution_count": 142,
   "metadata": {},
   "outputs": [
    {
     "name": "stdout",
     "output_type": "stream",
     "text": [
      "PID: 94894\n"
     ]
    }
   ],
   "source": [
    "import os\n",
    "import time as tm\n",
    "import random as rnd\n",
    "import sys\n",
    "import matplotlib.pyplot as plt\n",
    "import scipy as sp\n",
    "\n",
    "print(\"PID: %d\" % os.getpid())"
   ]
  },
  {
   "cell_type": "code",
   "execution_count": 143,
   "metadata": {},
   "outputs": [
    {
     "name": "stdout",
     "output_type": "stream",
     "text": [
      "[1024, 2048, 4096, 8192, 16384, 32768, 65536, 131072, 262144, 524288, 1048576]\n"
     ]
    }
   ],
   "source": [
    "sizes = [ 2**e for e in range(10,21)]\n",
    "print(sizes)"
   ]
  },
  {
   "cell_type": "code",
   "execution_count": 144,
   "metadata": {},
   "outputs": [
    {
     "name": "stdout",
     "output_type": "stream",
     "text": [
      "[1024, 2048, 4096, 8192, 16384, 32768, 65536, 131072, 262144, 524288, 1048576]\n",
      "[9032, 16568, 33936, 69168, 140592, 285392, 578944, 1174056, 2115960, 4290024, 8697472]\n",
      "[0.0035288333892822266, 0.0064089298248291016, 0.01456594467163086, 0.02695918083190918, 0.0341181755065918, 0.0575261116027832, 0.10476398468017578, 0.28571224212646484, 0.42364001274108887, 0.8313779830932617, 1.7201709747314453]\n"
     ]
    }
   ],
   "source": [
    "weight = []\n",
    "tiempo = []\n",
    "arreglo=[]\n",
    "\n",
    "for curr_size in sizes:\n",
    "    # Generación del arreglo aleatorio.\n",
    "    # tomamos el tamaño del programa antes y despues\n",
    "    # para saber cuanto pesa nuestro arreglo. Lo mismo\n",
    "    # hacemos con los tiempos de creacion.\n",
    "    tiempo_inicial=tm.time()\n",
    "    for i in range(0,curr_size):\n",
    "        arreglo.append(rnd.randint(1,200000))\n",
    "    tiempo_final=tm.time()\n",
    "    \n",
    "    # Guardamos los resultados.\n",
    "    tiempo.append(tiempo_final-tiempo_inicial)\n",
    "    weight.append(sys.getsizeof(arreglo))\n",
    "    \n",
    "    # Borramos el arreglo para seguir con el siguiente.\n",
    "    #del arreglo\n",
    "    arreglo=[]\n",
    "    \n",
    "print(sizes)\n",
    "print(weight)\n",
    "print(tiempo)\n"
   ]
  },
  {
   "cell_type": "code",
   "execution_count": 145,
   "metadata": {},
   "outputs": [
    {
     "data": {
      "image/png": "[encoded data removed]",
      "text/plain": [
       "<Figure size 432x288 with 2 Axes>"
      ]
     },
     "metadata": {
      "needs_background": "light"
     },
     "output_type": "display_data"
    }
   ],
   "source": [
    "# Creamos una grafica doble\n",
    "fig, ax1 = plt.subplots()\n",
    "\n",
    "color = 'tab:red'\n",
    "ax1.set_xlabel('Size')\n",
    "ax1.set_ylabel('Weight', color=color)\n",
    "ax1.plot(sizes, weight, color=color)\n",
    "ax1.tick_params(axis='y', labelcolor=color)\n",
    "\n",
    "ax2 = ax1.twinx()  # ocupamos el mismo eje X\n",
    "\n",
    "color = 'tab:blue'\n",
    "ax2.set_ylabel('Time', color=color)  \n",
    "ax2.plot(sizes, tiempo, color=color)\n",
    "ax2.tick_params(axis='y', labelcolor=color)\n",
    "\n",
    "fig.tight_layout()  # ajusta los ejes al layout para que no se descuadren\n",
    "#plt.legend(loc='best')\n",
    "plt.show()"
   ]
  }
 ],
 "metadata": {
  "kernelspec": {
   "display_name": "Python 3",
   "language": "python",
   "name": "python3"
  },
  "language_info": {
   "codemirror_mode": {
    "name": "ipython",
    "version": 3
   },
   "file_extension": ".py",
   "mimetype": "text/x-python",
   "name": "python",
   "nbconvert_exporter": "python",
   "pygments_lexer": "ipython3",
   "version": "3.7.5"
  }
 },
 "nbformat": 4,
 "nbformat_minor": 4
}
