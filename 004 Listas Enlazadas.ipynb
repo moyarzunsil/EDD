{
 "cells": [
  {
   "cell_type": "markdown",
   "metadata": {
    "slideshow": {
     "slide_type": "-"
    }
   },
   "source": [
    "# Listas Enlazadas\n",
    "\n",
    "\n",
    "### Mauricio Oyarzún Silva, Estructura de Datos, 2020-01"
   ]
  },
  {
   "cell_type": "markdown",
   "metadata": {
    "hide_input": true,
    "slideshow": {
     "slide_type": "-"
    }
   },
   "source": [
    "## ¿Qué es una lista enlazada?\n",
    "\n",
    "Una lista enlazada es un arreglo de tipo lineal, que está formado por *nodos* (elementos), cuyo crecimiento es dinámico (va creciendo a medida que es necesario). Dependiendo de su estructura y la cantidad de enlaces que tiene, podemos clasificar a las listas enlazadas en:\n",
    "\n",
    "- Lista enlazada simple\n",
    "- Lista doblemente enlazada\n",
    "- Lista circular\n",
    "\n",
    "Para manejar de manera sencilla una lista se usa un nodo sin valor, llamado **nodo centinela**. Este nodo facilita algunas tareas como la inserción y la eliminación. Existen dos maneras de implementar esta nodo centinela:\n",
    "\n",
    "- Listas enlazadas con el nodo centinela dentro de la lista\n",
    "- Listas enlazadas con el nodo centinela fuera de la lista"
   ]
  },
  {
   "cell_type": "markdown",
   "metadata": {
    "slideshow": {
     "slide_type": "-"
    }
   },
   "source": [
    "## Lista enlazada simple\n",
    "\n",
    "Una lista enlazada simple es aquella donde cada nodo de la lista guarda una referencia solo hacia el siguiente elemento.\n",
    "\n",
    "**Ventajas:**\n",
    "\n",
    "- Es sencilla de implementar.\n",
    "- Es eficiente en espacio.\n",
    "- La inserción al inicio de la lista es $O(1)$ (tiempo constante).\n",
    "\n",
    "**Desventajas:**\n",
    "\n",
    "- La eliminación es $O(n)$ (lineal a la cantidad de elementos).\n",
    "- La inserción al final o en una posición cualquiera es $O(n)$."
   ]
  },
  {
   "cell_type": "markdown",
   "metadata": {},
   "source": [
    "### Lista enlazada simple con el nodo centinela dentro de la lista\n",
    "\n",
    "Decimos que una lista enlazada tiene el nodo centinela dentro de la lista, cuando se utiliza la misma `clase nodo` para generar un *nodo* al inicio que no será utilizado para guardar datos, solo se utliza con fines algorítmicos para facilitar el manejo de la lista.\n",
    "\n",
    "En la figura podemos ver la `clase nodo`, la cual contiene un dato y una referencia a un nuevo *nodo*, esta referencia a si mismo, convierte a la lista enlazada en una estructura de caracter recursiva. Además podemos ver diferentes instancias de la `clase nodo` y como estas se ordenan para formar una lista."
   ]
  },
  {
   "cell_type": "code",
   "execution_count": 1,
   "metadata": {
    "hide_input": true
   },
   "outputs": [],
   "source": [
    "import iplantuml"
   ]
  },
  {
   "cell_type": "code",
   "execution_count": 2,
   "metadata": {
    "hide_input": true
   },
   "outputs": [
    {
     "data": {
      "image/svg+xml": [
       "<svg contentScriptType=\"application/ecmascript\" contentStyleType=\"text/css\" height=\"242px\" preserveAspectRatio=\"none\" style=\"width:858px;height:242px;\" version=\"1.1\" viewBox=\"0 0 858 242\" width=\"858px\" xmlns=\"http://www.w3.org/2000/svg\" xmlns:xlink=\"http://www.w3.org/1999/xlink\" zoomAndPan=\"magnify\"><defs><filter height=\"300%\" id=\"fyrt6ix4bmsnq\" width=\"300%\" x=\"-1\" y=\"-1\"><feGaussianBlur result=\"blurOut\" stdDeviation=\"2.0\"/><feColorMatrix in=\"blurOut\" result=\"blurOut2\" type=\"matrix\" values=\"0 0 0 0 0 0 0 0 0 0 0 0 0 0 0 0 0 0 .4 0\"/><feOffset dx=\"4.0\" dy=\"4.0\" in=\"blurOut2\" result=\"blurOut3\"/><feBlend in=\"SourceGraphic\" in2=\"blurOut3\" mode=\"normal\"/></filter></defs><g><!--MD5=[c24671e8f36c5754ff21ac85f3d34e98]\n",
       "class nodo--><rect fill=\"#FEFECE\" filter=\"url(#fyrt6ix4bmsnq)\" height=\"124.8281\" id=\"nodo\" style=\"stroke: #A80036; stroke-width: 1.5;\" width=\"69\" x=\"6\" y=\"6\"/><ellipse cx=\"23.7\" cy=\"22\" fill=\"#ADD1B2\" rx=\"11\" ry=\"11\" style=\"stroke: #A80036; stroke-width: 1.0;\"/><path d=\"M26.0438,17.6719 C25.1063,17.2344 24.5125,17.0938 23.6375,17.0938 C21.0125,17.0938 19.0125,19.1719 19.0125,21.8906 L19.0125,23.0156 C19.0125,25.5938 21.1219,27.4844 24.0125,27.4844 C25.2313,27.4844 26.3875,27.1875 27.1375,26.6406 C27.7156,26.2344 28.0438,25.7813 28.0438,25.3906 C28.0438,24.9375 27.6531,24.5469 27.1844,24.5469 C26.9656,24.5469 26.7625,24.625 26.575,24.8125 C26.1219,25.2969 26.1219,25.2969 25.9344,25.3906 C25.5125,25.6563 24.825,25.7813 24.0594,25.7813 C22.0125,25.7813 20.7156,24.6875 20.7156,22.9844 L20.7156,21.8906 C20.7156,20.1094 21.9656,18.7969 23.7,18.7969 C24.2781,18.7969 24.8875,18.9531 25.3563,19.2031 C25.8406,19.4844 26.0125,19.7031 26.1063,20.1094 C26.1688,20.5156 26.2,20.6406 26.3406,20.7656 C26.4813,20.9063 26.7156,21.0156 26.9344,21.0156 C27.2,21.0156 27.4656,20.875 27.6375,20.6563 C27.7469,20.5 27.7781,20.3125 27.7781,19.8906 L27.7781,18.4688 C27.7781,18.0313 27.7625,17.9063 27.6688,17.75 C27.5125,17.4844 27.2313,17.3438 26.9344,17.3438 C26.6375,17.3438 26.4344,17.4375 26.2156,17.75 L26.0438,17.6719 Z \"/><text fill=\"#000000\" font-family=\"sans-serif\" font-size=\"12\" lengthAdjust=\"spacingAndGlyphs\" textLength=\"31\" x=\"38.3\" y=\"26.1543\">nodo</text><line style=\"stroke: #A80036; stroke-width: 1.5;\" x1=\"7\" x2=\"74\" y1=\"38\" y2=\"38\"/><text fill=\"#000000\" font-family=\"sans-serif\" font-size=\"11\" lengthAdjust=\"spacingAndGlyphs\" textLength=\"50\" x=\"12\" y=\"52.2104\">dato : int</text><text fill=\"#000000\" font-family=\"sans-serif\" font-size=\"11\" lengthAdjust=\"spacingAndGlyphs\" textLength=\"55\" x=\"12\" y=\"65.0151\">sig : nodo</text><line style=\"stroke: #A80036; stroke-width: 1.5;\" x1=\"7\" x2=\"74\" y1=\"71.6094\" y2=\"71.6094\"/><text fill=\"#000000\" font-family=\"sans-serif\" font-size=\"11\" lengthAdjust=\"spacingAndGlyphs\" textLength=\"50\" x=\"12\" y=\"85.8198\">nodo(int)</text><text fill=\"#000000\" font-family=\"sans-serif\" font-size=\"11\" lengthAdjust=\"spacingAndGlyphs\" textLength=\"57\" x=\"12\" y=\"98.6245\">add(nodo)</text><text fill=\"#000000\" font-family=\"sans-serif\" font-size=\"11\" lengthAdjust=\"spacingAndGlyphs\" textLength=\"46\" x=\"12\" y=\"111.4292\">__str__()</text><text fill=\"#000000\" font-family=\"sans-serif\" font-size=\"11\" lengthAdjust=\"spacingAndGlyphs\" textLength=\"55\" x=\"12\" y=\"124.2339\">borrar(int)</text><rect fill=\"#FEFECE\" filter=\"url(#fyrt6ix4bmsnq)\" height=\"37.6094\" style=\"stroke: #A80036; stroke-width: 1.5;\" width=\"103\" x=\"174\" y=\"49.5\"/><text fill=\"#000000\" font-family=\"sans-serif\" font-size=\"12\" lengthAdjust=\"spacingAndGlyphs\" textLength=\"89\" x=\"181\" y=\"62.6387\">centinela:nodo</text><line style=\"stroke: #A80036; stroke-width: 1.5;\" x1=\"175\" x2=\"276\" y1=\"67.4688\" y2=\"67.4688\"/><text fill=\"#000000\" font-family=\"sans-serif\" font-size=\"10\" lengthAdjust=\"spacingAndGlyphs\" textLength=\"72\" x=\"180\" y=\"80.751\">dato = &quot;NaN&quot;</text><rect fill=\"#FEFECE\" filter=\"url(#fyrt6ix4bmsnq)\" height=\"37.6094\" style=\"stroke: #A80036; stroke-width: 1.5;\" width=\"87\" x=\"332\" y=\"49.5\"/><text fill=\"#000000\" font-family=\"sans-serif\" font-size=\"12\" lengthAdjust=\"spacingAndGlyphs\" textLength=\"73\" x=\"339\" y=\"62.6387\">nodo1:nodo</text><line style=\"stroke: #A80036; stroke-width: 1.5;\" x1=\"333\" x2=\"418\" y1=\"67.4688\" y2=\"67.4688\"/><text fill=\"#000000\" font-family=\"sans-serif\" font-size=\"10\" lengthAdjust=\"spacingAndGlyphs\" textLength=\"46\" x=\"338\" y=\"80.751\">dato = 1</text><rect fill=\"#FEFECE\" filter=\"url(#fyrt6ix4bmsnq)\" height=\"37.6094\" style=\"stroke: #A80036; stroke-width: 1.5;\" width=\"88\" x=\"473.5\" y=\"49.5\"/><text fill=\"#000000\" font-family=\"sans-serif\" font-size=\"12\" lengthAdjust=\"spacingAndGlyphs\" textLength=\"74\" x=\"480.5\" y=\"62.6387\">nodo2:nodo</text><line style=\"stroke: #A80036; stroke-width: 1.5;\" x1=\"474.5\" x2=\"560.5\" y1=\"67.4688\" y2=\"67.4688\"/><text fill=\"#000000\" font-family=\"sans-serif\" font-size=\"10\" lengthAdjust=\"spacingAndGlyphs\" textLength=\"45\" x=\"479.5\" y=\"80.751\">dato = 2</text><rect fill=\"#FEFECE\" filter=\"url(#fyrt6ix4bmsnq)\" height=\"37.6094\" style=\"stroke: #A80036; stroke-width: 1.5;\" width=\"88\" x=\"616.5\" y=\"49.5\"/><text fill=\"#000000\" font-family=\"sans-serif\" font-size=\"12\" lengthAdjust=\"spacingAndGlyphs\" textLength=\"74\" x=\"623.5\" y=\"62.6387\">nodo3:nodo</text><line style=\"stroke: #A80036; stroke-width: 1.5;\" x1=\"617.5\" x2=\"703.5\" y1=\"67.4688\" y2=\"67.4688\"/><text fill=\"#000000\" font-family=\"sans-serif\" font-size=\"10\" lengthAdjust=\"spacingAndGlyphs\" textLength=\"46\" x=\"622.5\" y=\"80.751\">dato = 3</text><rect fill=\"#FEFECE\" filter=\"url(#fyrt6ix4bmsnq)\" height=\"37.6094\" style=\"stroke: #A80036; stroke-width: 1.5;\" width=\"88\" x=\"759.5\" y=\"49.5\"/><text fill=\"#000000\" font-family=\"sans-serif\" font-size=\"12\" lengthAdjust=\"spacingAndGlyphs\" textLength=\"74\" x=\"766.5\" y=\"62.6387\">nodo4:nodo</text><line style=\"stroke: #A80036; stroke-width: 1.5;\" x1=\"760.5\" x2=\"846.5\" y1=\"67.4688\" y2=\"67.4688\"/><text fill=\"#000000\" font-family=\"sans-serif\" font-size=\"10\" lengthAdjust=\"spacingAndGlyphs\" textLength=\"46\" x=\"765.5\" y=\"80.751\">dato = 4</text><ellipse cx=\"133.5\" cy=\"68.5\" fill=\"#FEFECE\" filter=\"url(#fyrt6ix4bmsnq)\" rx=\"5\" ry=\"5\" style=\"stroke: #A80036; stroke-width: 1.5;\"/><text fill=\"#000000\" font-family=\"sans-serif\" font-size=\"12\" lengthAdjust=\"spacingAndGlyphs\" textLength=\"30\" x=\"118.5\" y=\"84.6387\">head</text><ellipse cx=\"803.5\" cy=\"213\" fill=\"#FEFECE\" filter=\"url(#fyrt6ix4bmsnq)\" rx=\"5\" ry=\"5\" style=\"stroke: #A80036; stroke-width: 1.5;\"/><text fill=\"#000000\" font-family=\"sans-serif\" font-size=\"12\" lengthAdjust=\"spacingAndGlyphs\" textLength=\"31\" x=\"788\" y=\"229.1387\">None</text><!--MD5=[9fa17203efb2339e9b35be3563b7c9a1]\n",
       "link nodo to nodo--><path d=\"M75.1869,50.465 C93.4501,47.547 110,53.559 110,68.5 C110,83.441 93.4501,89.453 75.1869,86.535 \" fill=\"none\" id=\"nodo-nodo\" style=\"stroke: #A80036; stroke-width: 1.0;\"/><text fill=\"#000000\" font-family=\"sans-serif\" font-size=\"13\" lengthAdjust=\"spacingAndGlyphs\" textLength=\"8\" x=\"83.1661\" y=\"42.2967\">1</text><text fill=\"#000000\" font-family=\"sans-serif\" font-size=\"13\" lengthAdjust=\"spacingAndGlyphs\" textLength=\"8\" x=\"83.1661\" y=\"85.8062\">1</text><!--MD5=[1709f53d1570dcbc37165a475ffe9ffe]\n",
       "link o0lol285615 to o0--><path d=\"M138.531,68.5 C150.308,68.5 162.085,68.5 173.862,68.5 \" fill=\"none\" id=\"o0lol285615-o0\" style=\"stroke: #A80036; stroke-width: 1.0;\"/><!--MD5=[4d51403bc2fc7d13ffa7bbaa59f603f3]\n",
       "link o0 to o1--><path d=\"M277.121,68.5 C293.111,68.5 310.675,68.5 326.482,68.5 \" fill=\"none\" id=\"o0-&gt;o1\" style=\"stroke: #A80036; stroke-width: 1.0;\"/><polygon fill=\"#A80036\" points=\"331.77,68.5,322.77,64.5,326.77,68.5,322.77,72.5,331.77,68.5\" style=\"stroke: #A80036; stroke-width: 1.0;\"/><text fill=\"#000000\" font-family=\"sans-serif\" font-size=\"13\" lengthAdjust=\"spacingAndGlyphs\" textLength=\"18\" x=\"295.5\" y=\"61.5669\">sig</text><!--MD5=[9ad6417c8edb5c87f8a26fa2c4cf4771]\n",
       "link o1 to o2--><path d=\"M419.263,68.5 C434.638,68.5 452.022,68.5 467.845,68.5 \" fill=\"none\" id=\"o1-&gt;o2\" style=\"stroke: #A80036; stroke-width: 1.0;\"/><polygon fill=\"#A80036\" points=\"473.147,68.5,464.147,64.5,468.147,68.5,464.147,72.5,473.147,68.5\" style=\"stroke: #A80036; stroke-width: 1.0;\"/><text fill=\"#000000\" font-family=\"sans-serif\" font-size=\"13\" lengthAdjust=\"spacingAndGlyphs\" textLength=\"18\" x=\"437.25\" y=\"61.5669\">sig</text><!--MD5=[f3390b22645e1719499891abe0a6a76c]\n",
       "link o2 to o3--><path d=\"M561.572,68.5 C577.202,68.5 594.894,68.5 610.951,68.5 \" fill=\"none\" id=\"o2-&gt;o3\" style=\"stroke: #A80036; stroke-width: 1.0;\"/><polygon fill=\"#A80036\" points=\"616.328,68.5,607.328,64.5,611.328,68.5,607.328,72.5,616.328,68.5\" style=\"stroke: #A80036; stroke-width: 1.0;\"/><text fill=\"#000000\" font-family=\"sans-serif\" font-size=\"13\" lengthAdjust=\"spacingAndGlyphs\" textLength=\"18\" x=\"580\" y=\"61.5669\">sig</text><!--MD5=[ca23d40ed75ad3e9ec0e9aac8c9c3c81]\n",
       "link o3 to o4--><path d=\"M704.572,68.5 C720.202,68.5 737.894,68.5 753.951,68.5 \" fill=\"none\" id=\"o3-&gt;o4\" style=\"stroke: #A80036; stroke-width: 1.0;\"/><polygon fill=\"#A80036\" points=\"759.328,68.5,750.328,64.5,754.328,68.5,750.328,72.5,759.328,68.5\" style=\"stroke: #A80036; stroke-width: 1.0;\"/><text fill=\"#000000\" font-family=\"sans-serif\" font-size=\"13\" lengthAdjust=\"spacingAndGlyphs\" textLength=\"18\" x=\"723\" y=\"61.5669\">sig</text><!--MD5=[27ea53e1e4c8ec1a288bfc7e0113b648]\n",
       "link o4 to o4lol285622--><path d=\"M803.5,87.548 C803.5,120.7998 803.5,189.9702 803.5,207.757 \" fill=\"none\" id=\"o4-o4lol285622\" style=\"stroke: #A80036; stroke-width: 1.0;\"/><text fill=\"#000000\" font-family=\"sans-serif\" font-size=\"13\" lengthAdjust=\"spacingAndGlyphs\" textLength=\"18\" x=\"804.5\" y=\"174.0669\">sig</text><!--MD5=[9229b383099729d7321ebae58fd72740]\n",
       "@startuml\n",
       "class nodo{\n",
       "    dato : int\n",
       "    sig : nodo\n",
       "    \n",
       "    nodo(int)\n",
       "    add(nodo)\n",
       "    __str__()\n",
       "    borrar(int)\n",
       "}\n",
       "\n",
       "nodo \"1\" - \"1\" nodo\n",
       "\n",
       "object \"centinela:nodo\" as o0\n",
       "o0 : dato = \"NaN\"\n",
       "object \"nodo1:nodo\" as o1\n",
       "o1 : dato = 1\n",
       "object \"nodo2:nodo\" as o2\n",
       "o2 : dato = 2\n",
       "object \"nodo3:nodo\" as o3\n",
       "o3 : dato = 3\n",
       "object \"nodo4:nodo\" as o4\n",
       "o4 : dato = 4\n",
       "\n",
       "head ()- o0\n",
       "o0 -> o1:sig\n",
       "o1 -> o2:sig\n",
       "o2 -> o3:sig\n",
       "o3 -> o4:sig\n",
       "o4 - -() None : sig\n",
       "@enduml\n",
       "\n",
       "PlantUML version 1.2020.12(Sat Jun 06 10:54:15 UTC 2020)\n",
       "(GPL source distribution)\n",
       "Java Runtime: Java(TM) SE Runtime Environment\n",
       "JVM: Java HotSpot(TM) 64-Bit Server VM\n",
       "Default Encoding: UTF-8\n",
       "Language: en\n",
       "Country: US\n",
       "--></g></svg>"
      ],
      "text/plain": [
       "<IPython.core.display.SVG object>"
      ]
     },
     "execution_count": 2,
     "metadata": {},
     "output_type": "execute_result"
    }
   ],
   "source": [
    "%%plantuml\n",
    "\n",
    "@startuml \n",
    "class nodo{\n",
    "    dato : int\n",
    "    sig : nodo\n",
    "    \n",
    "    nodo(int)\n",
    "    add(nodo)\n",
    "    __str__()\n",
    "    borrar(int)\n",
    "}\n",
    "\n",
    "nodo \"1\" - \"1\" nodo\n",
    "\n",
    "object \"centinela:nodo\" as o0\n",
    "o0 : dato = \"NaN\"\n",
    "object \"nodo1:nodo\" as o1\n",
    "o1 : dato = 1\n",
    "object \"nodo2:nodo\" as o2\n",
    "o2 : dato = 2\n",
    "object \"nodo3:nodo\" as o3\n",
    "o3 : dato = 3\n",
    "object \"nodo4:nodo\" as o4\n",
    "o4 : dato = 4\n",
    "\n",
    "head ()- o0\n",
    "o0 -> o1:sig\n",
    "o1 -> o2:sig\n",
    "o2 -> o3:sig\n",
    "o3 -> o4:sig\n",
    "o4 --() None : sig\n",
    "\n",
    "@enduml"
   ]
  },
  {
   "cell_type": "markdown",
   "metadata": {},
   "source": [
    "#### Ejemplo de clase nodo en Python"
   ]
  },
  {
   "cell_type": "code",
   "execution_count": 3,
   "metadata": {},
   "outputs": [],
   "source": [
    "class nodo:\n",
    "    def __init__(self, dato):\n",
    "        self.dato = dato\n",
    "        self.sig = None\n",
    "        \n",
    "    def add(self, nuevo):\n",
    "        nuevo.sig = self.sig # para que no se pierda el resto de la lista\n",
    "        self.sig = nuevo\n",
    "    \n",
    "    def __str__(self):\n",
    "        if(self.sig == None):\n",
    "            return \"({})->(None)\".format(self.dato)\n",
    "        \n",
    "        return \"({0})->{1}\".format(self.dato, str(self.sig))\n",
    "    \n",
    "    def borrar(self, elem):\n",
    "        if(self.sig == None):\n",
    "            return None\n",
    "        \n",
    "        if(self.sig.dato == elem):\n",
    "            self.sig = self.sig.sig\n",
    "            return 1\n",
    "        else:\n",
    "            return self.sig.borrar(elem)\n",
    "        \n"
   ]
  },
  {
   "cell_type": "markdown",
   "metadata": {},
   "source": [
    "#### Ejemplo de uso de la clase nodo"
   ]
  },
  {
   "cell_type": "code",
   "execution_count": 12,
   "metadata": {},
   "outputs": [
    {
     "name": "stdout",
     "output_type": "stream",
     "text": [
      "(centinela)->(d6)->(d5)->(d4)->(d3)->(d2)->(d1)->(None)\n",
      "(centinela)->(d6)->(d5)->(d3)->(d2)->(d1)->(None)\n"
     ]
    }
   ],
   "source": [
    "# construcción y llenado de la lista\n",
    "head = nodo(\"centinela\")\n",
    "head.add(nodo(\"d1\"))\n",
    "head.add(nodo(\"d2\"))\n",
    "head.add(nodo(\"d3\"))\n",
    "head.add(nodo(\"d4\"))\n",
    "head.add(nodo(\"d5\"))\n",
    "head.add(nodo(\"d6\"))\n",
    "\n",
    "# uso del método sobrecargado str() y el borrado\n",
    "print(str(head))\n",
    "head.borrar(\"d4\")\n",
    "print(str(head))\n"
   ]
  },
  {
   "cell_type": "markdown",
   "metadata": {},
   "source": [
    "### Lista enlazada simple con el nodo centinela fuera de la lista\n",
    "\n",
    "Cuando hablamos de una lista enlazada simple con el *nodo* sentinela fuera de la lista, nos referimos a una estrucutra donde el *nodo centinela* es de una clase distinta a la `clase nodo`. En este caso implementamos una `clase lista_enlazada` que en su forma más rudimentaria guarda tres referencias, una al inicio de la lista (*first*), una al final de la lista (*last*) y una referencia auxiliar que se utiliza como referencia movil dentro de la lista (*curr*). Opcionalmente se pueden agregar parámetros, como por ejemplo, la cantidad de elementos en la lista, que nos otorgan mayor comodidad al momento de realizar ciertas verificaciones."
   ]
  },
  {
   "cell_type": "code",
   "execution_count": 17,
   "metadata": {
    "hide_input": true
   },
   "outputs": [
    {
     "data": {
      "image/svg+xml": [
       "<svg contentScriptType=\"application/ecmascript\" contentStyleType=\"text/css\" height=\"460px\" preserveAspectRatio=\"none\" style=\"width:567px;height:460px;\" version=\"1.1\" viewBox=\"0 0 567 460\" width=\"567px\" xmlns=\"http://www.w3.org/2000/svg\" xmlns:xlink=\"http://www.w3.org/1999/xlink\" zoomAndPan=\"magnify\"><defs><filter height=\"300%\" id=\"fny5ozmm8gi1c\" width=\"300%\" x=\"-1\" y=\"-1\"><feGaussianBlur result=\"blurOut\" stdDeviation=\"2.0\"/><feColorMatrix in=\"blurOut\" result=\"blurOut2\" type=\"matrix\" values=\"0 0 0 0 0 0 0 0 0 0 0 0 0 0 0 0 0 0 .4 0\"/><feOffset dx=\"4.0\" dy=\"4.0\" in=\"blurOut2\" result=\"blurOut3\"/><feBlend in=\"SourceGraphic\" in2=\"blurOut3\" mode=\"normal\"/></filter></defs><g><!--MD5=[169743631bfa5c05ae50c6f9bf2a3f8a]\n",
       "class lista_enlazada--><rect fill=\"#FEFECE\" filter=\"url(#fny5ozmm8gi1c)\" height=\"150.4375\" id=\"lista_enlazada\" style=\"stroke: #A80036; stroke-width: 1.5;\" width=\"116\" x=\"6\" y=\"6\"/><ellipse cx=\"21\" cy=\"22\" fill=\"#ADD1B2\" rx=\"11\" ry=\"11\" style=\"stroke: #A80036; stroke-width: 1.0;\"/><path d=\"M23.3438,17.6719 C22.4063,17.2344 21.8125,17.0938 20.9375,17.0938 C18.3125,17.0938 16.3125,19.1719 16.3125,21.8906 L16.3125,23.0156 C16.3125,25.5938 18.4219,27.4844 21.3125,27.4844 C22.5313,27.4844 23.6875,27.1875 24.4375,26.6406 C25.0156,26.2344 25.3438,25.7813 25.3438,25.3906 C25.3438,24.9375 24.9531,24.5469 24.4844,24.5469 C24.2656,24.5469 24.0625,24.625 23.875,24.8125 C23.4219,25.2969 23.4219,25.2969 23.2344,25.3906 C22.8125,25.6563 22.125,25.7813 21.3594,25.7813 C19.3125,25.7813 18.0156,24.6875 18.0156,22.9844 L18.0156,21.8906 C18.0156,20.1094 19.2656,18.7969 21,18.7969 C21.5781,18.7969 22.1875,18.9531 22.6563,19.2031 C23.1406,19.4844 23.3125,19.7031 23.4063,20.1094 C23.4688,20.5156 23.5,20.6406 23.6406,20.7656 C23.7813,20.9063 24.0156,21.0156 24.2344,21.0156 C24.5,21.0156 24.7656,20.875 24.9375,20.6563 C25.0469,20.5 25.0781,20.3125 25.0781,19.8906 L25.0781,18.4688 C25.0781,18.0313 25.0625,17.9063 24.9688,17.75 C24.8125,17.4844 24.5313,17.3438 24.2344,17.3438 C23.9375,17.3438 23.7344,17.4375 23.5156,17.75 L23.3438,17.6719 Z \"/><text fill=\"#000000\" font-family=\"sans-serif\" font-size=\"12\" lengthAdjust=\"spacingAndGlyphs\" textLength=\"84\" x=\"35\" y=\"26.1543\">lista_enlazada</text><line style=\"stroke: #A80036; stroke-width: 1.5;\" x1=\"7\" x2=\"121\" y1=\"38\" y2=\"38\"/><text fill=\"#000000\" font-family=\"sans-serif\" font-size=\"11\" lengthAdjust=\"spacingAndGlyphs\" textLength=\"52\" x=\"12\" y=\"52.2104\">first:nodo</text><text fill=\"#000000\" font-family=\"sans-serif\" font-size=\"11\" lengthAdjust=\"spacingAndGlyphs\" textLength=\"51\" x=\"12\" y=\"65.0151\">last:nodo</text><text fill=\"#000000\" font-family=\"sans-serif\" font-size=\"11\" lengthAdjust=\"spacingAndGlyphs\" textLength=\"52\" x=\"12\" y=\"77.8198\">curr:nodo</text><text fill=\"#000000\" font-family=\"sans-serif\" font-size=\"11\" lengthAdjust=\"spacingAndGlyphs\" textLength=\"78\" x=\"12\" y=\"90.6245\">num_elem:int</text><line style=\"stroke: #A80036; stroke-width: 1.5;\" x1=\"7\" x2=\"121\" y1=\"97.2188\" y2=\"97.2188\"/><text fill=\"#000000\" font-family=\"sans-serif\" font-size=\"11\" lengthAdjust=\"spacingAndGlyphs\" textLength=\"57\" x=\"12\" y=\"111.4292\">add(nodo)</text><text fill=\"#000000\" font-family=\"sans-serif\" font-size=\"11\" lengthAdjust=\"spacingAndGlyphs\" textLength=\"46\" x=\"12\" y=\"124.2339\">__str__()</text><text fill=\"#000000\" font-family=\"sans-serif\" font-size=\"11\" lengthAdjust=\"spacingAndGlyphs\" textLength=\"55\" x=\"12\" y=\"137.0386\">borrar(int)</text><text fill=\"#000000\" font-family=\"sans-serif\" font-size=\"11\" lengthAdjust=\"spacingAndGlyphs\" textLength=\"91\" x=\"12\" y=\"149.8433\">__getitem__(int)</text><!--MD5=[c24671e8f36c5754ff21ac85f3d34e98]\n",
       "class nodo--><rect fill=\"#FEFECE\" filter=\"url(#fny5ozmm8gi1c)\" height=\"124.8281\" id=\"nodo\" style=\"stroke: #A80036; stroke-width: 1.5;\" width=\"69\" x=\"183.5\" y=\"18.5\"/><ellipse cx=\"201.2\" cy=\"34.5\" fill=\"#ADD1B2\" rx=\"11\" ry=\"11\" style=\"stroke: #A80036; stroke-width: 1.0;\"/><path d=\"M203.5438,30.1719 C202.6063,29.7344 202.0125,29.5938 201.1375,29.5938 C198.5125,29.5938 196.5125,31.6719 196.5125,34.3906 L196.5125,35.5156 C196.5125,38.0938 198.6219,39.9844 201.5125,39.9844 C202.7313,39.9844 203.8875,39.6875 204.6375,39.1406 C205.2156,38.7344 205.5438,38.2813 205.5438,37.8906 C205.5438,37.4375 205.1531,37.0469 204.6844,37.0469 C204.4656,37.0469 204.2625,37.125 204.075,37.3125 C203.6219,37.7969 203.6219,37.7969 203.4344,37.8906 C203.0125,38.1563 202.325,38.2813 201.5594,38.2813 C199.5125,38.2813 198.2156,37.1875 198.2156,35.4844 L198.2156,34.3906 C198.2156,32.6094 199.4656,31.2969 201.2,31.2969 C201.7781,31.2969 202.3875,31.4531 202.8563,31.7031 C203.3406,31.9844 203.5125,32.2031 203.6063,32.6094 C203.6688,33.0156 203.7,33.1406 203.8406,33.2656 C203.9813,33.4063 204.2156,33.5156 204.4344,33.5156 C204.7,33.5156 204.9656,33.375 205.1375,33.1563 C205.2469,33 205.2781,32.8125 205.2781,32.3906 L205.2781,30.9688 C205.2781,30.5313 205.2625,30.4063 205.1688,30.25 C205.0125,29.9844 204.7313,29.8438 204.4344,29.8438 C204.1375,29.8438 203.9344,29.9375 203.7156,30.25 L203.5438,30.1719 Z \"/><text fill=\"#000000\" font-family=\"sans-serif\" font-size=\"12\" lengthAdjust=\"spacingAndGlyphs\" textLength=\"31\" x=\"215.8\" y=\"38.6543\">nodo</text><line style=\"stroke: #A80036; stroke-width: 1.5;\" x1=\"184.5\" x2=\"251.5\" y1=\"50.5\" y2=\"50.5\"/><text fill=\"#000000\" font-family=\"sans-serif\" font-size=\"11\" lengthAdjust=\"spacingAndGlyphs\" textLength=\"50\" x=\"189.5\" y=\"64.7104\">dato : int</text><text fill=\"#000000\" font-family=\"sans-serif\" font-size=\"11\" lengthAdjust=\"spacingAndGlyphs\" textLength=\"55\" x=\"189.5\" y=\"77.5151\">sig : nodo</text><line style=\"stroke: #A80036; stroke-width: 1.5;\" x1=\"184.5\" x2=\"251.5\" y1=\"84.1094\" y2=\"84.1094\"/><text fill=\"#000000\" font-family=\"sans-serif\" font-size=\"11\" lengthAdjust=\"spacingAndGlyphs\" textLength=\"50\" x=\"189.5\" y=\"98.3198\">nodo(int)</text><text fill=\"#000000\" font-family=\"sans-serif\" font-size=\"11\" lengthAdjust=\"spacingAndGlyphs\" textLength=\"57\" x=\"189.5\" y=\"111.1245\">add(nodo)</text><text fill=\"#000000\" font-family=\"sans-serif\" font-size=\"11\" lengthAdjust=\"spacingAndGlyphs\" textLength=\"46\" x=\"189.5\" y=\"123.9292\">__str__()</text><text fill=\"#000000\" font-family=\"sans-serif\" font-size=\"11\" lengthAdjust=\"spacingAndGlyphs\" textLength=\"55\" x=\"189.5\" y=\"136.7339\">borrar(int)</text><rect fill=\"#FEFECE\" filter=\"url(#fny5ozmm8gi1c)\" height=\"33.9688\" style=\"stroke: #A80036; stroke-width: 1.5;\" width=\"156\" x=\"351\" y=\"64\"/><text fill=\"#000000\" font-family=\"sans-serif\" font-size=\"12\" lengthAdjust=\"spacingAndGlyphs\" textLength=\"142\" x=\"358\" y=\"77.1387\">centinela:lista_enlazada</text><line style=\"stroke: #A80036; stroke-width: 1.5;\" x1=\"352\" x2=\"506\" y1=\"81.9688\" y2=\"81.9688\"/><rect fill=\"#FEFECE\" filter=\"url(#fny5ozmm8gi1c)\" height=\"37.6094\" style=\"stroke: #A80036; stroke-width: 1.5;\" width=\"87\" x=\"40.5\" y=\"311\"/><text fill=\"#000000\" font-family=\"sans-serif\" font-size=\"12\" lengthAdjust=\"spacingAndGlyphs\" textLength=\"73\" x=\"47.5\" y=\"324.1387\">nodo1:nodo</text><line style=\"stroke: #A80036; stroke-width: 1.5;\" x1=\"41.5\" x2=\"126.5\" y1=\"328.9688\" y2=\"328.9688\"/><text fill=\"#000000\" font-family=\"sans-serif\" font-size=\"10\" lengthAdjust=\"spacingAndGlyphs\" textLength=\"46\" x=\"46.5\" y=\"342.251\">dato = 1</text><rect fill=\"#FEFECE\" filter=\"url(#fny5ozmm8gi1c)\" height=\"37.6094\" style=\"stroke: #A80036; stroke-width: 1.5;\" width=\"88\" x=\"182\" y=\"311\"/><text fill=\"#000000\" font-family=\"sans-serif\" font-size=\"12\" lengthAdjust=\"spacingAndGlyphs\" textLength=\"74\" x=\"189\" y=\"324.1387\">nodo2:nodo</text><line style=\"stroke: #A80036; stroke-width: 1.5;\" x1=\"183\" x2=\"269\" y1=\"328.9688\" y2=\"328.9688\"/><text fill=\"#000000\" font-family=\"sans-serif\" font-size=\"10\" lengthAdjust=\"spacingAndGlyphs\" textLength=\"45\" x=\"188\" y=\"342.251\">dato = 2</text><rect fill=\"#FEFECE\" filter=\"url(#fny5ozmm8gi1c)\" height=\"37.6094\" style=\"stroke: #A80036; stroke-width: 1.5;\" width=\"88\" x=\"325\" y=\"311\"/><text fill=\"#000000\" font-family=\"sans-serif\" font-size=\"12\" lengthAdjust=\"spacingAndGlyphs\" textLength=\"74\" x=\"332\" y=\"324.1387\">nodo3:nodo</text><line style=\"stroke: #A80036; stroke-width: 1.5;\" x1=\"326\" x2=\"412\" y1=\"328.9688\" y2=\"328.9688\"/><text fill=\"#000000\" font-family=\"sans-serif\" font-size=\"10\" lengthAdjust=\"spacingAndGlyphs\" textLength=\"46\" x=\"331\" y=\"342.251\">dato = 3</text><rect fill=\"#FEFECE\" filter=\"url(#fny5ozmm8gi1c)\" height=\"37.6094\" style=\"stroke: #A80036; stroke-width: 1.5;\" width=\"88\" x=\"468\" y=\"311\"/><text fill=\"#000000\" font-family=\"sans-serif\" font-size=\"12\" lengthAdjust=\"spacingAndGlyphs\" textLength=\"74\" x=\"475\" y=\"324.1387\">nodo4:nodo</text><line style=\"stroke: #A80036; stroke-width: 1.5;\" x1=\"469\" x2=\"555\" y1=\"328.9688\" y2=\"328.9688\"/><text fill=\"#000000\" font-family=\"sans-serif\" font-size=\"10\" lengthAdjust=\"spacingAndGlyphs\" textLength=\"46\" x=\"474\" y=\"342.251\">dato = 4</text><ellipse cx=\"311\" cy=\"81\" fill=\"#FEFECE\" filter=\"url(#fny5ozmm8gi1c)\" rx=\"5\" ry=\"5\" style=\"stroke: #A80036; stroke-width: 1.5;\"/><text fill=\"#000000\" font-family=\"sans-serif\" font-size=\"12\" lengthAdjust=\"spacingAndGlyphs\" textLength=\"30\" x=\"296\" y=\"97.1387\">head</text><ellipse cx=\"494\" cy=\"241.5\" fill=\"#FEFECE\" filter=\"url(#fny5ozmm8gi1c)\" rx=\"5\" ry=\"5\" style=\"stroke: #A80036; stroke-width: 1.5;\"/><text fill=\"#000000\" font-family=\"sans-serif\" font-size=\"12\" lengthAdjust=\"spacingAndGlyphs\" textLength=\"31\" x=\"478.5\" y=\"257.6387\">None</text><ellipse cx=\"512\" cy=\"431\" fill=\"#FEFECE\" filter=\"url(#fny5ozmm8gi1c)\" rx=\"5\" ry=\"5\" style=\"stroke: #A80036; stroke-width: 1.5;\"/><text fill=\"#000000\" font-family=\"sans-serif\" font-size=\"12\" lengthAdjust=\"spacingAndGlyphs\" textLength=\"31\" x=\"496.5\" y=\"447.1387\">None</text><!--MD5=[9fa17203efb2339e9b35be3563b7c9a1]\n",
       "link nodo to nodo--><path d=\"M252.687,60.801 C270.95,57.533 287.5,64.266 287.5,81 C287.5,97.734 270.95,104.467 252.687,101.199 \" fill=\"none\" id=\"nodo-nodo\" style=\"stroke: #A80036; stroke-width: 1.0;\"/><!--MD5=[51a2517f6255210d63e3c15e1bb04f51]\n",
       "link lista_enlazada to nodo--><path d=\"M122.221,81 C140.901,81 161.152,81 178.2,81 \" fill=\"none\" id=\"lista_enlazada-&gt;nodo\" style=\"stroke: #A80036; stroke-width: 1.0;\"/><polygon fill=\"#A80036\" points=\"183.382,81,174.382,77,178.382,81,174.382,85,183.382,81\" style=\"stroke: #A80036; stroke-width: 1.0;\"/><text fill=\"#000000\" font-family=\"sans-serif\" font-size=\"13\" lengthAdjust=\"spacingAndGlyphs\" textLength=\"25\" x=\"140.25\" y=\"74.0669\">first</text><!--MD5=[51a2517f6255210d63e3c15e1bb04f51]\n",
       "link lista_enlazada to nodo--><path d=\"M122.095,61.925 C136.513,59.317 151.936,58.33 166.25,61 C170.333,61.762 174.51,62.834 178.631,64.091 \" fill=\"none\" id=\"lista_enlazada-&gt;nodo-1\" style=\"stroke: #A80036; stroke-width: 1.0;\"/><polygon fill=\"#A80036\" points=\"183.436,65.644,176.1031,59.0692,178.6785,64.1058,173.6419,66.6812,183.436,65.644\" style=\"stroke: #A80036; stroke-width: 1.0;\"/><text fill=\"#000000\" font-family=\"sans-serif\" font-size=\"13\" lengthAdjust=\"spacingAndGlyphs\" textLength=\"23\" x=\"141.25\" y=\"51.0669\">last</text><!--MD5=[51a2517f6255210d63e3c15e1bb04f51]\n",
       "link lista_enlazada to nodo--><path d=\"M122.095,100.075 C136.513,102.683 151.936,103.67 166.25,101 C170.333,100.238 174.51,99.166 178.631,97.909 \" fill=\"none\" id=\"lista_enlazada-&gt;nodo-2\" style=\"stroke: #A80036; stroke-width: 1.0;\"/><polygon fill=\"#A80036\" points=\"183.436,96.356,173.6419,95.3188,178.6785,97.8942,176.1031,102.9308,183.436,96.356\" style=\"stroke: #A80036; stroke-width: 1.0;\"/><text fill=\"#000000\" font-family=\"sans-serif\" font-size=\"13\" lengthAdjust=\"spacingAndGlyphs\" textLength=\"25\" x=\"140.25\" y=\"97.0669\">curr</text><!--MD5=[a8c3384456c2bc13ca5c3dbfd488e867]\n",
       "link o0lol182785 to o0--><path d=\"M316.07,81 C327.687,81 339.303,81 350.92,81 \" fill=\"none\" id=\"o0lol182785-o0\" style=\"stroke: #A80036; stroke-width: 1.0;\"/><!--MD5=[4d51403bc2fc7d13ffa7bbaa59f603f3]\n",
       "link o0 to o1--><path d=\"M408.869,98.215 C389.812,113.437 360.284,136.692 334,156 C256.784,212.721 163.376,275.984 115.562,307.994 \" fill=\"none\" id=\"o0-&gt;o1\" style=\"stroke: #A80036; stroke-width: 1.0;\"/><polygon fill=\"#A80036\" points=\"111.359,310.806,121.0636,309.1265,115.5149,308.0259,116.6155,302.4772,111.359,310.806\" style=\"stroke: #A80036; stroke-width: 1.0;\"/><text fill=\"#000000\" font-family=\"sans-serif\" font-size=\"13\" lengthAdjust=\"spacingAndGlyphs\" textLength=\"25\" x=\"225\" y=\"246.0669\">first</text><!--MD5=[e6cd0e1f1e9db7227c4049f10bf6c82d]\n",
       "link o0 to o4--><path d=\"M427.751,98.032 C425.98,128.822 425.078,197.803 447,250 C456.193,271.889 473.508,292.459 487.956,307.118 \" fill=\"none\" id=\"o0-&gt;o4\" style=\"stroke: #A80036; stroke-width: 1.0;\"/><polygon fill=\"#A80036\" points=\"491.561,310.715,488.018,301.5255,488.0226,307.1823,482.3658,307.1869,491.561,310.715\" style=\"stroke: #A80036; stroke-width: 1.0;\"/><text fill=\"#000000\" font-family=\"sans-serif\" font-size=\"13\" lengthAdjust=\"spacingAndGlyphs\" textLength=\"23\" x=\"448\" y=\"246.0669\">last</text><!--MD5=[e61543c902754644976ece8811b2971c]\n",
       "link o0 to o0lol182790--><path d=\"M435.59,98.07 C450.179,133.643 484.532,217.411 492.383,236.556 \" fill=\"none\" id=\"o0-o0lol182790\" style=\"stroke: #A80036; stroke-width: 1.0;\"/><text fill=\"#000000\" font-family=\"sans-serif\" font-size=\"13\" lengthAdjust=\"spacingAndGlyphs\" textLength=\"25\" x=\"479\" y=\"199.0669\">curr</text><!--MD5=[9ad6417c8edb5c87f8a26fa2c4cf4771]\n",
       "link o1 to o2--><path d=\"M127.763,330 C143.138,330 160.522,330 176.345,330 \" fill=\"none\" id=\"o1-&gt;o2\" style=\"stroke: #A80036; stroke-width: 1.0;\"/><polygon fill=\"#A80036\" points=\"181.647,330,172.647,326,176.647,330,172.647,334,181.647,330\" style=\"stroke: #A80036; stroke-width: 1.0;\"/><text fill=\"#000000\" font-family=\"sans-serif\" font-size=\"13\" lengthAdjust=\"spacingAndGlyphs\" textLength=\"18\" x=\"145.75\" y=\"323.0669\">sig</text><!--MD5=[f3390b22645e1719499891abe0a6a76c]\n",
       "link o2 to o3--><path d=\"M270.072,330 C285.702,330 303.394,330 319.451,330 \" fill=\"none\" id=\"o2-&gt;o3\" style=\"stroke: #A80036; stroke-width: 1.0;\"/><polygon fill=\"#A80036\" points=\"324.828,330,315.828,326,319.828,330,315.828,334,324.828,330\" style=\"stroke: #A80036; stroke-width: 1.0;\"/><text fill=\"#000000\" font-family=\"sans-serif\" font-size=\"13\" lengthAdjust=\"spacingAndGlyphs\" textLength=\"18\" x=\"288.5\" y=\"323.0669\">sig</text><!--MD5=[ca23d40ed75ad3e9ec0e9aac8c9c3c81]\n",
       "link o3 to o4--><path d=\"M413.072,330 C428.702,330 446.394,330 462.451,330 \" fill=\"none\" id=\"o3-&gt;o4\" style=\"stroke: #A80036; stroke-width: 1.0;\"/><polygon fill=\"#A80036\" points=\"467.828,330,458.828,326,462.828,330,458.828,334,467.828,330\" style=\"stroke: #A80036; stroke-width: 1.0;\"/><text fill=\"#000000\" font-family=\"sans-serif\" font-size=\"13\" lengthAdjust=\"spacingAndGlyphs\" textLength=\"18\" x=\"431.5\" y=\"323.0669\">sig</text><!--MD5=[92a13d11e54f8dba98e56c1fe0cd663b]\n",
       "link o4 to o4lol182796--><path d=\"M512,349.1581 C512,372.8263 512,412.7347 512,425.754 \" fill=\"none\" id=\"o4-o4lol182796\" style=\"stroke: #A80036; stroke-width: 1.0;\"/><text fill=\"#000000\" font-family=\"sans-serif\" font-size=\"13\" lengthAdjust=\"spacingAndGlyphs\" textLength=\"18\" x=\"513\" y=\"392.0669\">sig</text><!--MD5=[a3376c34c75da9cfb5e3a73c97ff5178]\n",
       "@startuml\n",
       "class lista_enlazada{\n",
       "    first:nodo\n",
       "    last:nodo\n",
       "    curr:nodo\n",
       "    num_elem:int\n",
       "    \n",
       "    add(nodo)\n",
       "    __str__()\n",
       "    borrar(int)\n",
       "    __getitem__(int)\n",
       "}\n",
       "class nodo{\n",
       "    dato : int\n",
       "    sig : nodo\n",
       "    \n",
       "    nodo(int)\n",
       "    add(nodo)\n",
       "    __str__()\n",
       "    borrar(int)\n",
       "}\n",
       "\n",
       "nodo - - nodo\n",
       "lista_enlazada -> nodo: first\n",
       "lista_enlazada -> nodo: last\n",
       "lista_enlazada -> nodo: curr\n",
       "\n",
       "object \"centinela:lista_enlazada\" as o0\n",
       "object \"nodo1:nodo\" as o1\n",
       "o1 : dato = 1\n",
       "object \"nodo2:nodo\" as o2\n",
       "o2 : dato = 2\n",
       "object \"nodo3:nodo\" as o3\n",
       "o3 : dato = 3\n",
       "object \"nodo4:nodo\" as o4\n",
       "o4 : dato = 4\n",
       "\n",
       "head ()- o0\n",
       "o0 - - -> o1:first\n",
       "o0 - - -> o4:last\n",
       "o0 - -() None :curr\n",
       "o1 -> o2:sig\n",
       "o2 -> o3:sig\n",
       "o3 -> o4:sig\n",
       "o4 - -() None : sig\n",
       "@enduml\n",
       "\n",
       "PlantUML version 1.2020.12(Sat Jun 06 10:54:15 UTC 2020)\n",
       "(GPL source distribution)\n",
       "Java Runtime: Java(TM) SE Runtime Environment\n",
       "JVM: Java HotSpot(TM) 64-Bit Server VM\n",
       "Default Encoding: UTF-8\n",
       "Language: en\n",
       "Country: US\n",
       "--></g></svg>"
      ],
      "text/plain": [
       "<IPython.core.display.SVG object>"
      ]
     },
     "execution_count": 17,
     "metadata": {},
     "output_type": "execute_result"
    }
   ],
   "source": [
    "%%plantuml\n",
    "\n",
    "@startuml \n",
    "class lista_enlazada{\n",
    "    first:nodo\n",
    "    last:nodo\n",
    "    curr:nodo\n",
    "    num_elem:int\n",
    "    \n",
    "    add(nodo)\n",
    "    __str__()\n",
    "    borrar(int)\n",
    "    __getitem__(int)\n",
    "}\n",
    "class nodo{\n",
    "    dato : int\n",
    "    sig : nodo\n",
    "    \n",
    "    nodo(int)\n",
    "    add(nodo)\n",
    "    __str__()\n",
    "    borrar(int)\n",
    "}\n",
    "\n",
    "nodo -- nodo\n",
    "lista_enlazada -> nodo: first\n",
    "lista_enlazada -> nodo: last\n",
    "lista_enlazada -> nodo: curr\n",
    "\n",
    "object \"centinela:lista_enlazada\" as o0\n",
    "object \"nodo1:nodo\" as o1\n",
    "o1 : dato = 1\n",
    "object \"nodo2:nodo\" as o2\n",
    "o2 : dato = 2\n",
    "object \"nodo3:nodo\" as o3\n",
    "o3 : dato = 3\n",
    "object \"nodo4:nodo\" as o4\n",
    "o4 : dato = 4\n",
    "\n",
    "head ()- o0\n",
    "o0 ---> o1:first\n",
    "o0 ---> o4:last\n",
    "o0 --() None :curr\n",
    "o1 -> o2:sig\n",
    "o2 -> o3:sig\n",
    "o3 -> o4:sig\n",
    "o4 --() None : sig\n",
    "\n",
    "@enduml"
   ]
  },
  {
   "cell_type": "markdown",
   "metadata": {},
   "source": [
    "#### Ejemplo de clase lista\\_enlazada en Python"
   ]
  },
  {
   "cell_type": "code",
   "execution_count": 55,
   "metadata": {},
   "outputs": [],
   "source": [
    "class lista_enlazada:\n",
    "    def __init__(self):\n",
    "        self.first = None # siempre la referencia al primero\n",
    "        self.last = None # siempre la referencia al ultimo\n",
    "        self.curr = None # a partir de esta referencia moverse en la lista\n",
    "        self.num_elem = 0 # cantidad de elementos en la lista\n",
    "        \n",
    "    def add(self, nuevo):\n",
    "        if(self.first == None):\n",
    "            self.first = nuevo\n",
    "            self.last = nuevo\n",
    "        else:\n",
    "            #hacer que el ultimo apunte a este nuevo nodo\n",
    "            self.last.sig = nuevo\n",
    "        \n",
    "            #hacer que la referencia last apunte al nuevo nodo\n",
    "            self.last = nuevo\n",
    "        self.num_elem += 1\n",
    "        \n",
    "    def __str__(self):\n",
    "        # recorrer e imprimir\n",
    "        return str(self.first)\n",
    "        \n",
    "    def borrar(self, elem):\n",
    "        if self.first.borrar(elem) == None:\n",
    "            return None\n",
    "        else:\n",
    "            self.num_elem -= 1\n",
    "            return 1\n",
    "    \n",
    "    # ejemplo de uso de la referencia curr sobrecargando []\n",
    "    def __getitem__(self, index):\n",
    "        if(type(index) != type(int())): raise TypeError(\"Index must be integer.\")\n",
    "        if(index > self.num_elem): raise ValueError(\"Index out of range.\")\n",
    "        if(index < 0): raise ValueError(\"Index must be positive or zero.\")\n",
    "        \n",
    "        self.curr = self.first\n",
    "        curr_idx = 0\n",
    "        while(curr_idx != index):\n",
    "            curr_idx += 1\n",
    "            self.curr = self.curr.sig\n",
    "            \n",
    "        return self.curr.dato\n",
    "        \n",
    "        \n",
    "        "
   ]
  },
  {
   "cell_type": "markdown",
   "metadata": {},
   "source": [
    "#### Ejemplo de uso de clase lista\\_enlazada en Python"
   ]
  },
  {
   "cell_type": "code",
   "execution_count": 58,
   "metadata": {},
   "outputs": [
    {
     "name": "stdout",
     "output_type": "stream",
     "text": [
      "(d1)->(d2)->(d3)->(d4)->(d5)->(d6)->(None)\n",
      "(d1)->(d2)->(d3)->(d5)->(d6)->(None)\n",
      "d3\n"
     ]
    }
   ],
   "source": [
    "# construcción y llenado de la lista\n",
    "head = lista_enlazada()\n",
    "head.add(nodo(\"d1\"))\n",
    "head.add(nodo(\"d2\"))\n",
    "head.add(nodo(\"d3\"))\n",
    "head.add(nodo(\"d4\"))\n",
    "head.add(nodo(\"d5\"))\n",
    "head.add(nodo(\"d6\"))\n",
    "\n",
    "# uso del método sobrecargado str() y el borrado\n",
    "print(str(head))\n",
    "head.borrar(\"d4\")\n",
    "print(str(head))\n",
    "\n",
    "# uso del método sobrecargado []\n",
    "print(head[2])\n",
    "#testeando casos de borde\n",
    "#print(head[5]) # fuera de rango\n",
    "#print(head[-1]) # índice inválido\n",
    "#print(head['a']) # índice no numérico"
   ]
  }
 ],
 "metadata": {
  "kernelspec": {
   "display_name": "Python 3.7.5 64-bit ('env': virtualenv)",
   "language": "python",
   "name": "python37564bitenvvirtualenvd1d4a75d47ad4ed4994c6c4e7a3de422"
  },
  "language_info": {
   "codemirror_mode": {
    "name": "ipython",
    "version": 3
   },
   "file_extension": ".py",
   "mimetype": "text/x-python",
   "name": "python",
   "nbconvert_exporter": "python",
   "pygments_lexer": "ipython3",
   "version": "3.7.5"
  }
 },
 "nbformat": 4,
 "nbformat_minor": 4
}
