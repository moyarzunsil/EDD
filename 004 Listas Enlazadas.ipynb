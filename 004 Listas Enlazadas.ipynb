{
 "cells": [
  {
   "cell_type": "markdown",
   "metadata": {},
   "source": [
    "# Listas Enlazadas\n"
   ]
  },
  {
   "cell_type": "markdown",
   "metadata": {},
   "source": [
    "## Lista enlazada simple"
   ]
  },
  {
   "cell_type": "markdown",
   "metadata": {},
   "source": [
    "### Lista enlazada simple con el nodo centinela dentro de la lista"
   ]
  },
  {
   "cell_type": "code",
   "execution_count": 7,
   "metadata": {},
   "outputs": [],
   "source": [
    "import iplantuml"
   ]
  },
  {
   "cell_type": "code",
   "execution_count": 57,
   "metadata": {},
   "outputs": [
    {
     "data": {
      "image/svg+xml": [
       "<svg contentScriptType=\"application/ecmascript\" contentStyleType=\"text/css\" height=\"191px\" preserveAspectRatio=\"none\" style=\"width:856px;height:191px;\" version=\"1.1\" viewBox=\"0 0 856 191\" width=\"856px\" xmlns=\"http://www.w3.org/2000/svg\" xmlns:xlink=\"http://www.w3.org/1999/xlink\" zoomAndPan=\"magnify\"><defs><filter height=\"300%\" id=\"f161iwed5so6yh\" width=\"300%\" x=\"-1\" y=\"-1\"><feGaussianBlur result=\"blurOut\" stdDeviation=\"2.0\"/><feColorMatrix in=\"blurOut\" result=\"blurOut2\" type=\"matrix\" values=\"0 0 0 0 0 0 0 0 0 0 0 0 0 0 0 0 0 0 .4 0\"/><feOffset dx=\"4.0\" dy=\"4.0\" in=\"blurOut2\" result=\"blurOut3\"/><feBlend in=\"SourceGraphic\" in2=\"blurOut3\" mode=\"normal\"/></filter></defs><g><!--MD5=[c24671e8f36c5754ff21ac85f3d34e98]\n",
       "class nodo--><rect fill=\"#FEFECE\" filter=\"url(#f161iwed5so6yh)\" height=\"73.6094\" id=\"nodo\" style=\"stroke: #A80036; stroke-width: 1.5;\" width=\"67\" x=\"6\" y=\"6\"/><ellipse cx=\"22.8\" cy=\"22\" fill=\"#ADD1B2\" rx=\"11\" ry=\"11\" style=\"stroke: #A80036; stroke-width: 1.0;\"/><path d=\"M25.1438,17.6719 C24.2063,17.2344 23.6125,17.0938 22.7375,17.0938 C20.1125,17.0938 18.1125,19.1719 18.1125,21.8906 L18.1125,23.0156 C18.1125,25.5938 20.2219,27.4844 23.1125,27.4844 C24.3313,27.4844 25.4875,27.1875 26.2375,26.6406 C26.8156,26.2344 27.1438,25.7813 27.1438,25.3906 C27.1438,24.9375 26.7531,24.5469 26.2844,24.5469 C26.0656,24.5469 25.8625,24.625 25.675,24.8125 C25.2219,25.2969 25.2219,25.2969 25.0344,25.3906 C24.6125,25.6563 23.925,25.7813 23.1594,25.7813 C21.1125,25.7813 19.8156,24.6875 19.8156,22.9844 L19.8156,21.8906 C19.8156,20.1094 21.0656,18.7969 22.8,18.7969 C23.3781,18.7969 23.9875,18.9531 24.4563,19.2031 C24.9406,19.4844 25.1125,19.7031 25.2063,20.1094 C25.2688,20.5156 25.3,20.6406 25.4406,20.7656 C25.5813,20.9063 25.8156,21.0156 26.0344,21.0156 C26.3,21.0156 26.5656,20.875 26.7375,20.6563 C26.8469,20.5 26.8781,20.3125 26.8781,19.8906 L26.8781,18.4688 C26.8781,18.0313 26.8625,17.9063 26.7688,17.75 C26.6125,17.4844 26.3313,17.3438 26.0344,17.3438 C25.7375,17.3438 25.5344,17.4375 25.3156,17.75 L25.1438,17.6719 Z \"/><text fill=\"#000000\" font-family=\"sans-serif\" font-size=\"12\" lengthAdjust=\"spacingAndGlyphs\" textLength=\"31\" x=\"37.2\" y=\"26.1543\">nodo</text><line style=\"stroke: #A80036; stroke-width: 1.5;\" x1=\"7\" x2=\"72\" y1=\"38\" y2=\"38\"/><text fill=\"#000000\" font-family=\"sans-serif\" font-size=\"11\" lengthAdjust=\"spacingAndGlyphs\" textLength=\"50\" x=\"12\" y=\"52.2104\">dato : int</text><text fill=\"#000000\" font-family=\"sans-serif\" font-size=\"11\" lengthAdjust=\"spacingAndGlyphs\" textLength=\"55\" x=\"12\" y=\"65.0151\">sig : nodo</text><line style=\"stroke: #A80036; stroke-width: 1.5;\" x1=\"7\" x2=\"72\" y1=\"71.6094\" y2=\"71.6094\"/><rect fill=\"#FEFECE\" filter=\"url(#f161iwed5so6yh)\" height=\"37.6094\" style=\"stroke: #A80036; stroke-width: 1.5;\" width=\"103\" x=\"172\" y=\"24\"/><text fill=\"#000000\" font-family=\"sans-serif\" font-size=\"12\" lengthAdjust=\"spacingAndGlyphs\" textLength=\"89\" x=\"179\" y=\"37.1387\">centinela:nodo</text><line style=\"stroke: #A80036; stroke-width: 1.5;\" x1=\"173\" x2=\"274\" y1=\"41.9688\" y2=\"41.9688\"/><text fill=\"#000000\" font-family=\"sans-serif\" font-size=\"10\" lengthAdjust=\"spacingAndGlyphs\" textLength=\"72\" x=\"178\" y=\"55.251\">dato = &quot;NaN&quot;</text><rect fill=\"#FEFECE\" filter=\"url(#f161iwed5so6yh)\" height=\"37.6094\" style=\"stroke: #A80036; stroke-width: 1.5;\" width=\"87\" x=\"330\" y=\"24\"/><text fill=\"#000000\" font-family=\"sans-serif\" font-size=\"12\" lengthAdjust=\"spacingAndGlyphs\" textLength=\"73\" x=\"337\" y=\"37.1387\">nodo1:nodo</text><line style=\"stroke: #A80036; stroke-width: 1.5;\" x1=\"331\" x2=\"416\" y1=\"41.9688\" y2=\"41.9688\"/><text fill=\"#000000\" font-family=\"sans-serif\" font-size=\"10\" lengthAdjust=\"spacingAndGlyphs\" textLength=\"46\" x=\"336\" y=\"55.251\">dato = 1</text><rect fill=\"#FEFECE\" filter=\"url(#f161iwed5so6yh)\" height=\"37.6094\" style=\"stroke: #A80036; stroke-width: 1.5;\" width=\"88\" x=\"471.5\" y=\"24\"/><text fill=\"#000000\" font-family=\"sans-serif\" font-size=\"12\" lengthAdjust=\"spacingAndGlyphs\" textLength=\"74\" x=\"478.5\" y=\"37.1387\">nodo2:nodo</text><line style=\"stroke: #A80036; stroke-width: 1.5;\" x1=\"472.5\" x2=\"558.5\" y1=\"41.9688\" y2=\"41.9688\"/><text fill=\"#000000\" font-family=\"sans-serif\" font-size=\"10\" lengthAdjust=\"spacingAndGlyphs\" textLength=\"45\" x=\"477.5\" y=\"55.251\">dato = 2</text><rect fill=\"#FEFECE\" filter=\"url(#f161iwed5so6yh)\" height=\"37.6094\" style=\"stroke: #A80036; stroke-width: 1.5;\" width=\"88\" x=\"614.5\" y=\"24\"/><text fill=\"#000000\" font-family=\"sans-serif\" font-size=\"12\" lengthAdjust=\"spacingAndGlyphs\" textLength=\"74\" x=\"621.5\" y=\"37.1387\">nodo3:nodo</text><line style=\"stroke: #A80036; stroke-width: 1.5;\" x1=\"615.5\" x2=\"701.5\" y1=\"41.9688\" y2=\"41.9688\"/><text fill=\"#000000\" font-family=\"sans-serif\" font-size=\"10\" lengthAdjust=\"spacingAndGlyphs\" textLength=\"46\" x=\"620.5\" y=\"55.251\">dato = 3</text><rect fill=\"#FEFECE\" filter=\"url(#f161iwed5so6yh)\" height=\"37.6094\" style=\"stroke: #A80036; stroke-width: 1.5;\" width=\"88\" x=\"757.5\" y=\"24\"/><text fill=\"#000000\" font-family=\"sans-serif\" font-size=\"12\" lengthAdjust=\"spacingAndGlyphs\" textLength=\"74\" x=\"764.5\" y=\"37.1387\">nodo4:nodo</text><line style=\"stroke: #A80036; stroke-width: 1.5;\" x1=\"758.5\" x2=\"844.5\" y1=\"41.9688\" y2=\"41.9688\"/><text fill=\"#000000\" font-family=\"sans-serif\" font-size=\"10\" lengthAdjust=\"spacingAndGlyphs\" textLength=\"46\" x=\"763.5\" y=\"55.251\">dato = 4</text><ellipse cx=\"131.5\" cy=\"43\" fill=\"#FEFECE\" filter=\"url(#f161iwed5so6yh)\" rx=\"5\" ry=\"5\" style=\"stroke: #A80036; stroke-width: 1.5;\"/><text fill=\"#000000\" font-family=\"sans-serif\" font-size=\"12\" lengthAdjust=\"spacingAndGlyphs\" textLength=\"30\" x=\"116.5\" y=\"59.1387\">head</text><ellipse cx=\"801.5\" cy=\"162\" fill=\"#FEFECE\" filter=\"url(#f161iwed5so6yh)\" rx=\"5\" ry=\"5\" style=\"stroke: #A80036; stroke-width: 1.5;\"/><text fill=\"#000000\" font-family=\"sans-serif\" font-size=\"12\" lengthAdjust=\"spacingAndGlyphs\" textLength=\"31\" x=\"786\" y=\"178.1387\">None</text><!--MD5=[9fa17203efb2339e9b35be3563b7c9a1]\n",
       "link nodo to nodo--><path d=\"M73.3347,29.697 C91.4743,27.437 108,31.871 108,43 C108,54.129 91.4743,58.563 73.3347,56.303 \" fill=\"none\" id=\"nodo-nodo\" style=\"stroke: #A80036; stroke-width: 1.0;\"/><text fill=\"#000000\" font-family=\"sans-serif\" font-size=\"13\" lengthAdjust=\"spacingAndGlyphs\" textLength=\"8\" x=\"81.1381\" y=\"22.5273\">1</text><text fill=\"#000000\" font-family=\"sans-serif\" font-size=\"13\" lengthAdjust=\"spacingAndGlyphs\" textLength=\"8\" x=\"81.1381\" y=\"54.6207\">1</text><!--MD5=[65ac069b0252dec52910802db35c3f5f]\n",
       "link o0lol192380 to o0--><path d=\"M136.531,43 C148.308,43 160.085,43 171.862,43 \" fill=\"none\" id=\"o0lol192380-o0\" style=\"stroke: #A80036; stroke-width: 1.0;\"/><!--MD5=[4d51403bc2fc7d13ffa7bbaa59f603f3]\n",
       "link o0 to o1--><path d=\"M275.121,43 C291.111,43 308.675,43 324.482,43 \" fill=\"none\" id=\"o0-&gt;o1\" style=\"stroke: #A80036; stroke-width: 1.0;\"/><polygon fill=\"#A80036\" points=\"329.77,43,320.77,39,324.77,43,320.77,47,329.77,43\" style=\"stroke: #A80036; stroke-width: 1.0;\"/><text fill=\"#000000\" font-family=\"sans-serif\" font-size=\"13\" lengthAdjust=\"spacingAndGlyphs\" textLength=\"18\" x=\"293.5\" y=\"36.0669\">sig</text><!--MD5=[9ad6417c8edb5c87f8a26fa2c4cf4771]\n",
       "link o1 to o2--><path d=\"M417.263,43 C432.638,43 450.022,43 465.845,43 \" fill=\"none\" id=\"o1-&gt;o2\" style=\"stroke: #A80036; stroke-width: 1.0;\"/><polygon fill=\"#A80036\" points=\"471.147,43,462.147,39,466.147,43,462.147,47,471.147,43\" style=\"stroke: #A80036; stroke-width: 1.0;\"/><text fill=\"#000000\" font-family=\"sans-serif\" font-size=\"13\" lengthAdjust=\"spacingAndGlyphs\" textLength=\"18\" x=\"435.25\" y=\"36.0669\">sig</text><!--MD5=[f3390b22645e1719499891abe0a6a76c]\n",
       "link o2 to o3--><path d=\"M559.572,43 C575.202,43 592.894,43 608.951,43 \" fill=\"none\" id=\"o2-&gt;o3\" style=\"stroke: #A80036; stroke-width: 1.0;\"/><polygon fill=\"#A80036\" points=\"614.328,43,605.328,39,609.328,43,605.328,47,614.328,43\" style=\"stroke: #A80036; stroke-width: 1.0;\"/><text fill=\"#000000\" font-family=\"sans-serif\" font-size=\"13\" lengthAdjust=\"spacingAndGlyphs\" textLength=\"18\" x=\"578\" y=\"36.0669\">sig</text><!--MD5=[ca23d40ed75ad3e9ec0e9aac8c9c3c81]\n",
       "link o3 to o4--><path d=\"M702.572,43 C718.202,43 735.894,43 751.951,43 \" fill=\"none\" id=\"o3-&gt;o4\" style=\"stroke: #A80036; stroke-width: 1.0;\"/><polygon fill=\"#A80036\" points=\"757.328,43,748.328,39,752.328,43,748.328,47,757.328,43\" style=\"stroke: #A80036; stroke-width: 1.0;\"/><text fill=\"#000000\" font-family=\"sans-serif\" font-size=\"13\" lengthAdjust=\"spacingAndGlyphs\" textLength=\"18\" x=\"721\" y=\"36.0669\">sig</text><!--MD5=[331d51e7823df6ab9067ab4be4234d61]\n",
       "link o4 to o4lol192387--><path d=\"M801.5,62.025 C801.5,89.9726 801.5,142.0945 801.5,156.9524 \" fill=\"none\" id=\"o4-o4lol192387\" style=\"stroke: #A80036; stroke-width: 1.0;\"/><text fill=\"#000000\" font-family=\"sans-serif\" font-size=\"13\" lengthAdjust=\"spacingAndGlyphs\" textLength=\"18\" x=\"802.5\" y=\"123.0669\">sig</text><!--MD5=[022e8f0a8980299332fa1514f0c1d617]\n",
       "@startuml\n",
       "class nodo{\n",
       "    dato : int\n",
       "    sig : nodo\n",
       "}\n",
       "\n",
       "nodo \"1\" - \"1\" nodo\n",
       "\n",
       "object \"centinela:nodo\" as o0\n",
       "o0 : dato = \"NaN\"\n",
       "object \"nodo1:nodo\" as o1\n",
       "o1 : dato = 1\n",
       "object \"nodo2:nodo\" as o2\n",
       "o2 : dato = 2\n",
       "object \"nodo3:nodo\" as o3\n",
       "o3 : dato = 3\n",
       "object \"nodo4:nodo\" as o4\n",
       "o4 : dato = 4\n",
       "\n",
       "head ()- o0\n",
       "o0 -> o1:sig\n",
       "o1 -> o2:sig\n",
       "o2 -> o3:sig\n",
       "o3 -> o4:sig\n",
       "o4 - -() None : sig\n",
       "@enduml\n",
       "\n",
       "PlantUML version 1.2020.12(Sat Jun 06 10:54:15 UTC 2020)\n",
       "(GPL source distribution)\n",
       "Java Runtime: Java(TM) SE Runtime Environment\n",
       "JVM: Java HotSpot(TM) 64-Bit Server VM\n",
       "Default Encoding: UTF-8\n",
       "Language: en\n",
       "Country: US\n",
       "--></g></svg>"
      ],
      "text/plain": [
       "<IPython.core.display.SVG object>"
      ]
     },
     "execution_count": 57,
     "metadata": {},
     "output_type": "execute_result"
    }
   ],
   "source": [
    "%%plantuml\n",
    "\n",
    "@startuml \n",
    "class nodo{\n",
    "    dato : int\n",
    "    sig : nodo\n",
    "}\n",
    "\n",
    "nodo \"1\" - \"1\" nodo\n",
    "\n",
    "object \"centinela:nodo\" as o0\n",
    "o0 : dato = \"NaN\"\n",
    "object \"nodo1:nodo\" as o1\n",
    "o1 : dato = 1\n",
    "object \"nodo2:nodo\" as o2\n",
    "o2 : dato = 2\n",
    "object \"nodo3:nodo\" as o3\n",
    "o3 : dato = 3\n",
    "object \"nodo4:nodo\" as o4\n",
    "o4 : dato = 4\n",
    "\n",
    "head ()- o0\n",
    "o0 -> o1:sig\n",
    "o1 -> o2:sig\n",
    "o2 -> o3:sig\n",
    "o3 -> o4:sig\n",
    "o4 --() None : sig\n",
    "\n",
    "@enduml"
   ]
  },
  {
   "cell_type": "code",
   "execution_count": 22,
   "metadata": {},
   "outputs": [],
   "source": [
    "class nodo:\n",
    "    def __init__(self, dato):\n",
    "        self.dato = dato\n",
    "        self.sig = None\n",
    "        \n",
    "    def add(self, nuevo):\n",
    "        nuevo.sig = self.sig # para que no se pierda el resto de la lista\n",
    "        self.sig = nuevo\n",
    "\n",
    "    def imprimir(self): # ejemplo de como recorrer para imprimir \n",
    "        print(self.dato)\n",
    "        \n",
    "        if(self.sig == None):\n",
    "            return\n",
    "        return self.sig.imprimir()\n",
    "    \n",
    "    def borrar(self, elem):\n",
    "        if(self.sig == None):\n",
    "            return 0\n",
    "        \n",
    "        if(self.sig.dato == elem):\n",
    "            self.sig = self.sig.sig\n",
    "            return 1\n",
    "        else:\n",
    "            return self.sig.borrar(elem)\n",
    "        \n"
   ]
  },
  {
   "cell_type": "code",
   "execution_count": 23,
   "metadata": {},
   "outputs": [
    {
     "name": "stdout",
     "output_type": "stream",
     "text": [
      "None\n",
      "d6\n",
      "d5\n",
      "d4\n",
      "d3\n",
      "d2\n",
      "d1\n",
      "None\n",
      "d6\n",
      "d5\n",
      "d3\n",
      "d2\n",
      "d1\n"
     ]
    }
   ],
   "source": [
    "head = nodo(None)\n",
    "head.add(nodo(\"d1\"))\n",
    "head.add(nodo(\"d2\"))\n",
    "head.add(nodo(\"d3\"))\n",
    "head.add(nodo(\"d4\"))\n",
    "head.add(nodo(\"d5\"))\n",
    "head.add(nodo(\"d6\"))\n",
    "\n",
    "head.imprimir()\n",
    "\n",
    "head.borrar(\"d4\")\n",
    "head.imprimir()\n"
   ]
  },
  {
   "cell_type": "markdown",
   "metadata": {},
   "source": [
    "### Lista enlazada simple con el nodo centinela fuera de la lista"
   ]
  },
  {
   "cell_type": "code",
   "execution_count": 59,
   "metadata": {},
   "outputs": [
    {
     "data": {
      "image/svg+xml": [
       "<svg contentScriptType=\"application/ecmascript\" contentStyleType=\"text/css\" height=\"319px\" preserveAspectRatio=\"none\" style=\"width:651px;height:319px;\" version=\"1.1\" viewBox=\"0 0 651 319\" width=\"651px\" xmlns=\"http://www.w3.org/2000/svg\" xmlns:xlink=\"http://www.w3.org/1999/xlink\" zoomAndPan=\"magnify\"><defs><filter height=\"300%\" id=\"f7pqemutcnw4r\" width=\"300%\" x=\"-1\" y=\"-1\"><feGaussianBlur result=\"blurOut\" stdDeviation=\"2.0\"/><feColorMatrix in=\"blurOut\" result=\"blurOut2\" type=\"matrix\" values=\"0 0 0 0 0 0 0 0 0 0 0 0 0 0 0 0 0 0 .4 0\"/><feOffset dx=\"4.0\" dy=\"4.0\" in=\"blurOut2\" result=\"blurOut3\"/><feBlend in=\"SourceGraphic\" in2=\"blurOut3\" mode=\"normal\"/></filter></defs><g><!--MD5=[169743631bfa5c05ae50c6f9bf2a3f8a]\n",
       "class lista_enlazada--><rect fill=\"#FEFECE\" filter=\"url(#f7pqemutcnw4r)\" height=\"86.4141\" id=\"lista_enlazada\" style=\"stroke: #A80036; stroke-width: 1.5;\" width=\"116\" x=\"6\" y=\"6.5659\"/><ellipse cx=\"21\" cy=\"22.5659\" fill=\"#ADD1B2\" rx=\"11\" ry=\"11\" style=\"stroke: #A80036; stroke-width: 1.0;\"/><path d=\"M23.3438,18.2378 C22.4063,17.8003 21.8125,17.6597 20.9375,17.6597 C18.3125,17.6597 16.3125,19.7378 16.3125,22.4565 L16.3125,23.5815 C16.3125,26.1597 18.4219,28.0503 21.3125,28.0503 C22.5313,28.0503 23.6875,27.7534 24.4375,27.2065 C25.0156,26.8003 25.3438,26.3472 25.3438,25.9565 C25.3438,25.5034 24.9531,25.1128 24.4844,25.1128 C24.2656,25.1128 24.0625,25.1909 23.875,25.3784 C23.4219,25.8628 23.4219,25.8628 23.2344,25.9565 C22.8125,26.2222 22.125,26.3472 21.3594,26.3472 C19.3125,26.3472 18.0156,25.2534 18.0156,23.5503 L18.0156,22.4565 C18.0156,20.6753 19.2656,19.3628 21,19.3628 C21.5781,19.3628 22.1875,19.519 22.6563,19.769 C23.1406,20.0503 23.3125,20.269 23.4063,20.6753 C23.4688,21.0815 23.5,21.2065 23.6406,21.3315 C23.7813,21.4722 24.0156,21.5815 24.2344,21.5815 C24.5,21.5815 24.7656,21.4409 24.9375,21.2222 C25.0469,21.0659 25.0781,20.8784 25.0781,20.4565 L25.0781,19.0347 C25.0781,18.5972 25.0625,18.4722 24.9688,18.3159 C24.8125,18.0503 24.5313,17.9097 24.2344,17.9097 C23.9375,17.9097 23.7344,18.0034 23.5156,18.3159 L23.3438,18.2378 Z \"/><text fill=\"#000000\" font-family=\"sans-serif\" font-size=\"12\" lengthAdjust=\"spacingAndGlyphs\" textLength=\"84\" x=\"35\" y=\"26.7202\">lista_enlazada</text><line style=\"stroke: #A80036; stroke-width: 1.5;\" x1=\"7\" x2=\"121\" y1=\"38.5659\" y2=\"38.5659\"/><text fill=\"#000000\" font-family=\"sans-serif\" font-size=\"11\" lengthAdjust=\"spacingAndGlyphs\" textLength=\"52\" x=\"12\" y=\"52.7764\">first:nodo</text><text fill=\"#000000\" font-family=\"sans-serif\" font-size=\"11\" lengthAdjust=\"spacingAndGlyphs\" textLength=\"51\" x=\"12\" y=\"65.5811\">last:nodo</text><text fill=\"#000000\" font-family=\"sans-serif\" font-size=\"11\" lengthAdjust=\"spacingAndGlyphs\" textLength=\"52\" x=\"12\" y=\"78.3857\">curr:nodo</text><line style=\"stroke: #A80036; stroke-width: 1.5;\" x1=\"7\" x2=\"121\" y1=\"84.98\" y2=\"84.98\"/><!--MD5=[c24671e8f36c5754ff21ac85f3d34e98]\n",
       "class nodo--><rect fill=\"#FEFECE\" filter=\"url(#f7pqemutcnw4r)\" height=\"73.6094\" id=\"nodo\" style=\"stroke: #A80036; stroke-width: 1.5;\" width=\"67\" x=\"183.5\" y=\"12.5659\"/><ellipse cx=\"200.3\" cy=\"28.5659\" fill=\"#ADD1B2\" rx=\"11\" ry=\"11\" style=\"stroke: #A80036; stroke-width: 1.0;\"/><path d=\"M202.6438,24.2378 C201.7063,23.8003 201.1125,23.6597 200.2375,23.6597 C197.6125,23.6597 195.6125,25.7378 195.6125,28.4565 L195.6125,29.5815 C195.6125,32.1597 197.7219,34.0503 200.6125,34.0503 C201.8313,34.0503 202.9875,33.7534 203.7375,33.2065 C204.3156,32.8003 204.6438,32.3472 204.6438,31.9565 C204.6438,31.5034 204.2531,31.1128 203.7844,31.1128 C203.5656,31.1128 203.3625,31.1909 203.175,31.3784 C202.7219,31.8628 202.7219,31.8628 202.5344,31.9565 C202.1125,32.2222 201.425,32.3472 200.6594,32.3472 C198.6125,32.3472 197.3156,31.2534 197.3156,29.5503 L197.3156,28.4565 C197.3156,26.6753 198.5656,25.3628 200.3,25.3628 C200.8781,25.3628 201.4875,25.519 201.9563,25.769 C202.4406,26.0503 202.6125,26.269 202.7063,26.6753 C202.7688,27.0815 202.8,27.2065 202.9406,27.3315 C203.0813,27.4722 203.3156,27.5815 203.5344,27.5815 C203.8,27.5815 204.0656,27.4409 204.2375,27.2222 C204.3469,27.0659 204.3781,26.8784 204.3781,26.4565 L204.3781,25.0347 C204.3781,24.5972 204.3625,24.4722 204.2688,24.3159 C204.1125,24.0503 203.8313,23.9097 203.5344,23.9097 C203.2375,23.9097 203.0344,24.0034 202.8156,24.3159 L202.6438,24.2378 Z \"/><text fill=\"#000000\" font-family=\"sans-serif\" font-size=\"12\" lengthAdjust=\"spacingAndGlyphs\" textLength=\"31\" x=\"214.7\" y=\"32.7202\">nodo</text><line style=\"stroke: #A80036; stroke-width: 1.5;\" x1=\"184.5\" x2=\"249.5\" y1=\"44.5659\" y2=\"44.5659\"/><text fill=\"#000000\" font-family=\"sans-serif\" font-size=\"11\" lengthAdjust=\"spacingAndGlyphs\" textLength=\"50\" x=\"189.5\" y=\"58.7764\">dato : int</text><text fill=\"#000000\" font-family=\"sans-serif\" font-size=\"11\" lengthAdjust=\"spacingAndGlyphs\" textLength=\"55\" x=\"189.5\" y=\"71.5811\">sig : nodo</text><line style=\"stroke: #A80036; stroke-width: 1.5;\" x1=\"184.5\" x2=\"249.5\" y1=\"78.1753\" y2=\"78.1753\"/><rect fill=\"#FEFECE\" filter=\"url(#f7pqemutcnw4r)\" height=\"33.9688\" style=\"stroke: #A80036; stroke-width: 1.5;\" width=\"156\" x=\"304\" y=\"32.5659\"/><text fill=\"#000000\" font-family=\"sans-serif\" font-size=\"12\" lengthAdjust=\"spacingAndGlyphs\" textLength=\"142\" x=\"311\" y=\"45.7046\">centinela:lista_enlazada</text><line style=\"stroke: #A80036; stroke-width: 1.5;\" x1=\"305\" x2=\"459\" y1=\"50.5347\" y2=\"50.5347\"/><rect fill=\"#FEFECE\" filter=\"url(#f7pqemutcnw4r)\" height=\"37.6094\" style=\"stroke: #A80036; stroke-width: 1.5;\" width=\"87\" x=\"124.5\" y=\"169.5659\"/><text fill=\"#000000\" font-family=\"sans-serif\" font-size=\"12\" lengthAdjust=\"spacingAndGlyphs\" textLength=\"73\" x=\"131.5\" y=\"182.7046\">nodo1:nodo</text><line style=\"stroke: #A80036; stroke-width: 1.5;\" x1=\"125.5\" x2=\"210.5\" y1=\"187.5347\" y2=\"187.5347\"/><text fill=\"#000000\" font-family=\"sans-serif\" font-size=\"10\" lengthAdjust=\"spacingAndGlyphs\" textLength=\"46\" x=\"130.5\" y=\"200.8169\">dato = 1</text><rect fill=\"#FEFECE\" filter=\"url(#f7pqemutcnw4r)\" height=\"37.6094\" style=\"stroke: #A80036; stroke-width: 1.5;\" width=\"88\" x=\"266\" y=\"169.5659\"/><text fill=\"#000000\" font-family=\"sans-serif\" font-size=\"12\" lengthAdjust=\"spacingAndGlyphs\" textLength=\"74\" x=\"273\" y=\"182.7046\">nodo2:nodo</text><line style=\"stroke: #A80036; stroke-width: 1.5;\" x1=\"267\" x2=\"353\" y1=\"187.5347\" y2=\"187.5347\"/><text fill=\"#000000\" font-family=\"sans-serif\" font-size=\"10\" lengthAdjust=\"spacingAndGlyphs\" textLength=\"45\" x=\"272\" y=\"200.8169\">dato = 2</text><rect fill=\"#FEFECE\" filter=\"url(#f7pqemutcnw4r)\" height=\"37.6094\" style=\"stroke: #A80036; stroke-width: 1.5;\" width=\"88\" x=\"409\" y=\"169.5659\"/><text fill=\"#000000\" font-family=\"sans-serif\" font-size=\"12\" lengthAdjust=\"spacingAndGlyphs\" textLength=\"74\" x=\"416\" y=\"182.7046\">nodo3:nodo</text><line style=\"stroke: #A80036; stroke-width: 1.5;\" x1=\"410\" x2=\"496\" y1=\"187.5347\" y2=\"187.5347\"/><text fill=\"#000000\" font-family=\"sans-serif\" font-size=\"10\" lengthAdjust=\"spacingAndGlyphs\" textLength=\"46\" x=\"415\" y=\"200.8169\">dato = 3</text><rect fill=\"#FEFECE\" filter=\"url(#f7pqemutcnw4r)\" height=\"37.6094\" style=\"stroke: #A80036; stroke-width: 1.5;\" width=\"88\" x=\"552\" y=\"169.5659\"/><text fill=\"#000000\" font-family=\"sans-serif\" font-size=\"12\" lengthAdjust=\"spacingAndGlyphs\" textLength=\"74\" x=\"559\" y=\"182.7046\">nodo4:nodo</text><line style=\"stroke: #A80036; stroke-width: 1.5;\" x1=\"553\" x2=\"639\" y1=\"187.5347\" y2=\"187.5347\"/><text fill=\"#000000\" font-family=\"sans-serif\" font-size=\"10\" lengthAdjust=\"spacingAndGlyphs\" textLength=\"46\" x=\"558\" y=\"200.8169\">dato = 4</text><ellipse cx=\"527\" cy=\"49.5659\" fill=\"#FEFECE\" filter=\"url(#f7pqemutcnw4r)\" rx=\"5\" ry=\"5\" style=\"stroke: #A80036; stroke-width: 1.5;\"/><text fill=\"#000000\" font-family=\"sans-serif\" font-size=\"12\" lengthAdjust=\"spacingAndGlyphs\" textLength=\"31\" x=\"511.5\" y=\"65.7046\">None</text><ellipse cx=\"596\" cy=\"289.5659\" fill=\"#FEFECE\" filter=\"url(#f7pqemutcnw4r)\" rx=\"5\" ry=\"5\" style=\"stroke: #A80036; stroke-width: 1.5;\"/><text fill=\"#000000\" font-family=\"sans-serif\" font-size=\"12\" lengthAdjust=\"spacingAndGlyphs\" textLength=\"31\" x=\"580.5\" y=\"305.7046\">None</text><!--MD5=[9fa17203efb2339e9b35be3563b7c9a1]\n",
       "link nodo to nodo--><path d=\"M250.835,35.1849 C268.974,32.7409 285.5,37.5349 285.5,49.5659 C285.5,61.5969 268.974,66.3909 250.835,63.9469 \" fill=\"none\" id=\"nodo-nodo\" style=\"stroke: #A80036; stroke-width: 1.0;\"/><!--MD5=[51a2517f6255210d63e3c15e1bb04f51]\n",
       "link lista_enlazada to nodo--><path d=\"M122.279,49.5659 C140.953,49.5659 161.165,49.5659 178.103,49.5659 \" fill=\"none\" id=\"lista_enlazada-&gt;nodo\" style=\"stroke: #A80036; stroke-width: 1.0;\"/><polygon fill=\"#A80036\" points=\"183.249,49.5659,174.249,45.5659,178.249,49.5659,174.249,53.5659,183.249,49.5659\" style=\"stroke: #A80036; stroke-width: 1.0;\"/><text fill=\"#000000\" font-family=\"sans-serif\" font-size=\"13\" lengthAdjust=\"spacingAndGlyphs\" textLength=\"25\" x=\"140.25\" y=\"42.6328\">first</text><!--MD5=[51a2517f6255210d63e3c15e1bb04f51]\n",
       "link lista_enlazada to nodo--><path d=\"M122.108,30.4239 C136.526,27.8179 151.945,26.8489 166.25,29.5659 C170.329,30.3409 174.5,31.4369 178.611,32.7209 \" fill=\"none\" id=\"lista_enlazada-&gt;nodo-1\" style=\"stroke: #A80036; stroke-width: 1.0;\"/><polygon fill=\"#A80036\" points=\"183.4,34.3079,176.1148,27.6803,178.6537,32.7354,173.5987,35.2743,183.4,34.3079\" style=\"stroke: #A80036; stroke-width: 1.0;\"/><text fill=\"#000000\" font-family=\"sans-serif\" font-size=\"13\" lengthAdjust=\"spacingAndGlyphs\" textLength=\"23\" x=\"141.25\" y=\"19.6328\">last</text><!--MD5=[51a2517f6255210d63e3c15e1bb04f51]\n",
       "link lista_enlazada to nodo--><path d=\"M122.108,68.7079 C136.526,71.3139 151.945,72.2829 166.25,69.5659 C170.329,68.7909 174.5,67.6949 178.611,66.4109 \" fill=\"none\" id=\"lista_enlazada-&gt;nodo-2\" style=\"stroke: #A80036; stroke-width: 1.0;\"/><polygon fill=\"#A80036\" points=\"183.4,64.8239,173.5987,63.8575,178.6537,66.3965,176.1148,71.4515,183.4,64.8239\" style=\"stroke: #A80036; stroke-width: 1.0;\"/><text fill=\"#000000\" font-family=\"sans-serif\" font-size=\"13\" lengthAdjust=\"spacingAndGlyphs\" textLength=\"25\" x=\"140.25\" y=\"65.6328\">curr</text><!--MD5=[4d51403bc2fc7d13ffa7bbaa59f603f3]\n",
       "link o0 to o1--><path d=\"M356.611,66.8199 C317.756,91.6939 243.551,139.1989 200.712,166.6239 \" fill=\"none\" id=\"o0-&gt;o1\" style=\"stroke: #A80036; stroke-width: 1.0;\"/><polygon fill=\"#A80036\" points=\"196.412,169.3769,206.1486,167.8939,200.6232,166.6814,201.8357,161.156,196.412,169.3769\" style=\"stroke: #A80036; stroke-width: 1.0;\"/><text fill=\"#000000\" font-family=\"sans-serif\" font-size=\"13\" lengthAdjust=\"spacingAndGlyphs\" textLength=\"25\" x=\"269\" y=\"135.6328\">first</text><!--MD5=[e6cd0e1f1e9db7227c4049f10bf6c82d]\n",
       "link o0 to o4--><path d=\"M407.389,66.8199 C446.244,91.6939 520.449,139.1989 563.288,166.6239 \" fill=\"none\" id=\"o0-&gt;o4\" style=\"stroke: #A80036; stroke-width: 1.0;\"/><polygon fill=\"#A80036\" points=\"567.588,169.3769,562.1643,161.156,563.3768,166.6814,557.8514,167.8939,567.588,169.3769\" style=\"stroke: #A80036; stroke-width: 1.0;\"/><text fill=\"#000000\" font-family=\"sans-serif\" font-size=\"13\" lengthAdjust=\"spacingAndGlyphs\" textLength=\"23\" x=\"521\" y=\"135.6328\">last</text><!--MD5=[44db5eb7ea16ba4fe50b39426fcac007]\n",
       "link o0 to o0lol192307--><path d=\"M460.018,49.5659 C486.026,49.5659 511.082,49.5659 521.693,49.5659 \" fill=\"none\" id=\"o0-o0lol192307\" style=\"stroke: #A80036; stroke-width: 1.0;\"/><text fill=\"#000000\" font-family=\"sans-serif\" font-size=\"13\" lengthAdjust=\"spacingAndGlyphs\" textLength=\"25\" x=\"478.5\" y=\"42.6328\">curr</text><!--MD5=[9ad6417c8edb5c87f8a26fa2c4cf4771]\n",
       "link o1 to o2--><path d=\"M211.763,188.5659 C227.138,188.5659 244.522,188.5659 260.345,188.5659 \" fill=\"none\" id=\"o1-&gt;o2\" style=\"stroke: #A80036; stroke-width: 1.0;\"/><polygon fill=\"#A80036\" points=\"265.647,188.5659,256.647,184.5659,260.647,188.5659,256.647,192.5659,265.647,188.5659\" style=\"stroke: #A80036; stroke-width: 1.0;\"/><text fill=\"#000000\" font-family=\"sans-serif\" font-size=\"13\" lengthAdjust=\"spacingAndGlyphs\" textLength=\"18\" x=\"229.75\" y=\"181.6328\">sig</text><!--MD5=[f3390b22645e1719499891abe0a6a76c]\n",
       "link o2 to o3--><path d=\"M354.072,188.5659 C369.702,188.5659 387.394,188.5659 403.451,188.5659 \" fill=\"none\" id=\"o2-&gt;o3\" style=\"stroke: #A80036; stroke-width: 1.0;\"/><polygon fill=\"#A80036\" points=\"408.828,188.5659,399.828,184.5659,403.828,188.5659,399.828,192.5659,408.828,188.5659\" style=\"stroke: #A80036; stroke-width: 1.0;\"/><text fill=\"#000000\" font-family=\"sans-serif\" font-size=\"13\" lengthAdjust=\"spacingAndGlyphs\" textLength=\"18\" x=\"372.5\" y=\"181.6328\">sig</text><!--MD5=[ca23d40ed75ad3e9ec0e9aac8c9c3c81]\n",
       "link o3 to o4--><path d=\"M497.072,188.5659 C512.702,188.5659 530.394,188.5659 546.451,188.5659 \" fill=\"none\" id=\"o3-&gt;o4\" style=\"stroke: #A80036; stroke-width: 1.0;\"/><polygon fill=\"#A80036\" points=\"551.828,188.5659,542.828,184.5659,546.828,188.5659,542.828,192.5659,551.828,188.5659\" style=\"stroke: #A80036; stroke-width: 1.0;\"/><text fill=\"#000000\" font-family=\"sans-serif\" font-size=\"13\" lengthAdjust=\"spacingAndGlyphs\" textLength=\"18\" x=\"515.5\" y=\"181.6328\">sig</text><!--MD5=[711944500c3cabb7f3a94e6cb00ac53d]\n",
       "link o4 to o4lol192313--><path d=\"M596,207.724 C596,231.3922 596,271.3006 596,284.3199 \" fill=\"none\" id=\"o4-o4lol192313\" style=\"stroke: #A80036; stroke-width: 1.0;\"/><text fill=\"#000000\" font-family=\"sans-serif\" font-size=\"13\" lengthAdjust=\"spacingAndGlyphs\" textLength=\"18\" x=\"597\" y=\"250.6328\">sig</text><!--MD5=[80b83d8f3d6d7346411e3830b60603cc]\n",
       "@startuml\n",
       "class lista_enlazada{\n",
       "    first:nodo\n",
       "    last:nodo\n",
       "    curr:nodo\n",
       "}\n",
       "class nodo{\n",
       "    dato : int\n",
       "    sig : nodo\n",
       "}\n",
       "\n",
       "nodo - - nodo\n",
       "lista_enlazada -> nodo: first\n",
       "lista_enlazada -> nodo: last\n",
       "lista_enlazada -> nodo: curr\n",
       "\n",
       "object \"centinela:lista_enlazada\" as o0\n",
       "object \"nodo1:nodo\" as o1\n",
       "o1 : dato = 1\n",
       "object \"nodo2:nodo\" as o2\n",
       "o2 : dato = 2\n",
       "object \"nodo3:nodo\" as o3\n",
       "o3 : dato = 3\n",
       "object \"nodo4:nodo\" as o4\n",
       "o4 : dato = 4\n",
       "\n",
       "\n",
       "o0 - -> o1:first\n",
       "o0 - -> o4:last\n",
       "o0 -() None :curr\n",
       "o1 -> o2:sig\n",
       "o2 -> o3:sig\n",
       "o3 -> o4:sig\n",
       "o4 - -() None : sig\n",
       "@enduml\n",
       "\n",
       "PlantUML version 1.2020.12(Sat Jun 06 10:54:15 UTC 2020)\n",
       "(GPL source distribution)\n",
       "Java Runtime: Java(TM) SE Runtime Environment\n",
       "JVM: Java HotSpot(TM) 64-Bit Server VM\n",
       "Default Encoding: UTF-8\n",
       "Language: en\n",
       "Country: US\n",
       "--></g></svg>"
      ],
      "text/plain": [
       "<IPython.core.display.SVG object>"
      ]
     },
     "execution_count": 59,
     "metadata": {},
     "output_type": "execute_result"
    }
   ],
   "source": [
    "%%plantuml\n",
    "\n",
    "@startuml \n",
    "class lista_enlazada{\n",
    "    first:nodo\n",
    "    last:nodo\n",
    "    curr:nodo\n",
    "}\n",
    "class nodo{\n",
    "    dato : int\n",
    "    sig : nodo\n",
    "}\n",
    "\n",
    "nodo -- nodo\n",
    "lista_enlazada -> nodo: first\n",
    "lista_enlazada -> nodo: last\n",
    "lista_enlazada -> nodo: curr\n",
    "\n",
    "object \"centinela:lista_enlazada\" as o0\n",
    "object \"nodo1:nodo\" as o1\n",
    "o1 : dato = 1\n",
    "object \"nodo2:nodo\" as o2\n",
    "o2 : dato = 2\n",
    "object \"nodo3:nodo\" as o3\n",
    "o3 : dato = 3\n",
    "object \"nodo4:nodo\" as o4\n",
    "o4 : dato = 4\n",
    "\n",
    "\n",
    "o0 --> o1:first\n",
    "o0 --> o4:last\n",
    "o0 -() None :curr\n",
    "o1 -> o2:sig\n",
    "o2 -> o3:sig\n",
    "o3 -> o4:sig\n",
    "o4 --() None : sig\n",
    "\n",
    "@enduml"
   ]
  },
  {
   "cell_type": "code",
   "execution_count": 25,
   "metadata": {},
   "outputs": [
    {
     "ename": "IndentationError",
     "evalue": "expected an indented block (<ipython-input-25-6bb6a539a1e6>, line 15)",
     "output_type": "error",
     "traceback": [
      "\u001b[0;36m  File \u001b[0;32m\"<ipython-input-25-6bb6a539a1e6>\"\u001b[0;36m, line \u001b[0;32m15\u001b[0m\n\u001b[0;31m    def imprimir(self):\u001b[0m\n\u001b[0m      ^\u001b[0m\n\u001b[0;31mIndentationError\u001b[0m\u001b[0;31m:\u001b[0m expected an indented block\n"
     ]
    }
   ],
   "source": [
    "class nodo:\n",
    "    def __init__(self, dato):\n",
    "        self.dato = dato\n",
    "        self.sig = None\n",
    "\n",
    "class lista_enlazada:\n",
    "    def __init__(self):\n",
    "        self.first = None # siempre la referencia al primero\n",
    "        self.last = None # siempre la referencia al ultimo\n",
    "        self.curr = None # a partir de esta referencia moverse en la lista\n",
    "        \n",
    "    def add(self, nuevo):\n",
    "        # agregar nuevo nodo\n",
    "        \n",
    "    def imprimir(self):\n",
    "        # recorrer e imprimir\n",
    "        \n",
    "    def borrar(self, elem):\n",
    "        # borrar un nodo"
   ]
  }
 ],
 "metadata": {
  "kernelspec": {
   "display_name": "Python 3.7.5 64-bit ('env': virtualenv)",
   "language": "python",
   "name": "python37564bitenvvirtualenvd1d4a75d47ad4ed4994c6c4e7a3de422"
  },
  "language_info": {
   "codemirror_mode": {
    "name": "ipython",
    "version": 3
   },
   "file_extension": ".py",
   "mimetype": "text/x-python",
   "name": "python",
   "nbconvert_exporter": "python",
   "pygments_lexer": "ipython3",
   "version": "3.7.5"
  }
 },
 "nbformat": 4,
 "nbformat_minor": 4
}
