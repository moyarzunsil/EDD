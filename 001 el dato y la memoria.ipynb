{
 "cells": [
  {
   "cell_type": "code",
   "execution_count": 2,
   "metadata": {},
   "outputs": [
    {
     "name": "stdout",
     "output_type": "stream",
     "text": [
      "24\n",
      "[0 0 0 0 0 0 0 0 0 0 0 0 0 0 0 0 0 0 0 0 0 1 0 1]\n"
     ]
    }
   ],
   "source": [
    "import numpy as np\n",
    "import sys\n",
    "\n",
    "a = 5\n",
    "int_size = sys.getsizeof(int())\n",
    "bits = np.zeros(int_size, int)\n",
    "print(int_size)\n",
    "\n",
    "for i in range(int_size):\n",
    "    bits[int_size - 1 - i] = a & 1\n",
    "    a = a >> 1\n",
    "    \n",
    "print(bits)"
   ]
  },
  {
   "cell_type": "code",
   "execution_count": 6,
   "metadata": {},
   "outputs": [
    {
     "name": "stdout",
     "output_type": "stream",
     "text": [
      "97\n",
      "50\n"
     ]
    }
   ],
   "source": [
    "b = 'a'\n",
    "\n",
    "print(ord(b))\n",
    "char_size = sys.getsizeof(b)\n",
    "print(char_size)"
   ]
  },
  {
   "cell_type": "code",
   "execution_count": 29,
   "metadata": {},
   "outputs": [
    {
     "name": "stdout",
     "output_type": "stream",
     "text": [
      "51\n"
     ]
    }
   ],
   "source": [
    "c = \"LA\"\n",
    "\n",
    "str_size = sys.getsizeof(c)\n",
    "print(str_size)"
   ]
  },
  {
   "cell_type": "code",
   "execution_count": 53,
   "metadata": {},
   "outputs": [
    {
     "name": "stdout",
     "output_type": "stream",
     "text": [
      "<class 'int'>\n",
      "5\n",
      "0b101\n",
      "13\n",
      "0o15\n",
      "175\n",
      "0xaf\n",
      "28\n",
      "<class 'float'>\n",
      "<class 'str'>\n",
      "<class 'complex'>\n"
     ]
    }
   ],
   "source": [
    "print(type(5))\n",
    "print(0b101)\n",
    "print(bin(5))\n",
    "print(0o15)\n",
    "print(oct(13))\n",
    "print(0xaf)\n",
    "print(hex(175))\n",
    "print(sys.getsizeof(5))\n",
    "\n",
    "print(type(2.5))\n",
    "\n",
    "print(type(\"b\"))\n",
    "\n",
    "print(type(2+3j))\n"
   ]
  }
 ],
 "metadata": {
  "kernelspec": {
   "display_name": "Python 3",
   "language": "python",
   "name": "python3"
  },
  "language_info": {
   "codemirror_mode": {
    "name": "ipython",
    "version": 3
   },
   "file_extension": ".py",
   "mimetype": "text/x-python",
   "name": "python",
   "nbconvert_exporter": "python",
   "pygments_lexer": "ipython3",
   "version": "3.7.5"
  }
 },
 "nbformat": 4,
 "nbformat_minor": 4
}
